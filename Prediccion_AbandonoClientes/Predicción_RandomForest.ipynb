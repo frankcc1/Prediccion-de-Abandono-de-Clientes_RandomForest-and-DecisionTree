{
 "cells": [
  {
   "cell_type": "code",
   "execution_count": 0,
   "metadata": {
    "application/vnd.databricks.v1+cell": {
     "cellMetadata": {
      "byteLimit": 2048000,
      "rowLimit": 10000
     },
     "inputWidgets": {},
     "nuid": "200915a5-4895-4f9f-8745-1172c67c7ec3",
     "showTitle": false,
     "tableResultSettingsMap": {},
     "title": ""
    }
   },
   "outputs": [
    {
     "output_type": "stream",
     "name": "stdout",
     "output_type": "stream",
     "text": [
      "+----------+------+----+------+---------------+---------------------+-------------------+---------------+-------------------+----------------+--------------------+----------------+------------------+-----------------+----------------------------------+---------------+------------+-------------------+----------------+----------------+--------------+---------------------+---------------+------------------+------------------+-------------------+-------------------------------------+-----------------------------------+------------------+------------------+------------------------+--------------------+---------------+---------------+----------------------------+-------------------------+--------------------------+----------------------+-----------------------+----------------------+--------------------------------+------------------------+---------------------+----------------------------+-------------------------+-------------------------+-----------------+------------------------------+-----------------------+---------------------------+--------------------+\n|ID_Cliente|Género|Edad|Casado|         Estado|Número_de_Referencias|Antigüedad_en_Meses|Oferta_de_Valor|Servicio_Teléfonico|Líneas_Múltiples|Servicio_de_Internet|Tipo_de_Internet|Seguridad_en_Línea|Respaldo_en_Línea|Plan_de_Protección_de_Dispositivos|Soporte_Premium|Streaming_TV|Streaming_Películas|Streaming_Música|Datos_Ilimitados|      Contrato|Facturación_Sin_Papel| Método_de_Pago|     Cargo_Mensual|    Cargos_Totales|Total_de_Reembolsos|Total_de_Cargos_Adicionales_por_Datos|Total_de_Cargos_por_Larga_Distancia|  Ingresos_Totales|Estado_del_Cliente|Categoría_de_Cancelación|Razón_de_Cancelación|Genero_Indexado|Casado_Indexado|Servicio_Teléfonico_Indexado|Lineas_Multiples_Indexado|Servicio_Internet_Indexado|Tipo_Internet_Indexado|SeguridadLinea_Indexado|RespaldoLinea_Indexado|Proteccion_Dispositivos_Indexado|Soporte_Premium_Indexado|Streaming_TV_Indexado|Streaming_Películas_Indexado|Streaming_Música_Indexado|Datos_Ilimitados_Indexado|Contrato_Indexado|Facturación_Sin_Papel_Indexado|Método_de_Pago_Indexado|Estado_del_Cliente_indexado|            features|\n+----------+------+----+------+---------------+---------------------+-------------------+---------------+-------------------+----------------+--------------------+----------------+------------------+-----------------+----------------------------------+---------------+------------+-------------------+----------------+----------------+--------------+---------------------+---------------+------------------+------------------+-------------------+-------------------------------------+-----------------------------------+------------------+------------------+------------------------+--------------------+---------------+---------------+----------------------------+-------------------------+--------------------------+----------------------+-----------------------+----------------------+--------------------------------+------------------------+---------------------+----------------------------+-------------------------+-------------------------+-----------------+------------------------------+-----------------------+---------------------------+--------------------+\n| 58156-KAR|Female|56.0|   Yes|      Karnataka|                  8.0|               23.0|           null|                Yes|             Yes|                 Yes|     Fiber Optic|                No|               No|                                No|             No|         Yes|                Yes|             Yes|              No|Month-to-Month|                  Yes|Bank Withdrawal|              93.0| 2248.050048828125|                0.0|                                 40.0|                 1125.8399658203125| 3413.889892578125|            Stayed|                    null|                null|            0.0|            1.0|                         0.0|                      1.0|                       0.0|                   0.0|                    0.0|                   0.0|                             0.0|                     0.0|                  1.0|                         1.0|                      1.0|                      1.0|              0.0|                           0.0|                    0.0|                        0.0|(24,[1,2,3,4,6,13...|\n| 49023-PUD|Female|51.0|   Yes|     Puducherry|                  8.0|               31.0|         Deal 4|                Yes|              No|                  No|            Otro|                No|               No|                                No|             No|          No|                 No|              No|              No|Month-to-Month|                   No|    Credit Card|             20.25|             208.0|                0.0|                                  0.0|                 314.82000732421875| 522.8200073242188|            Stayed|                    null|                null|            0.0|            1.0|                         0.0|                      0.0|                       1.0|                   2.0|                    0.0|                   0.0|                             0.0|                     0.0|                  0.0|                         0.0|                      0.0|                      1.0|              0.0|                           1.0|                    1.0|                        0.0|(24,[1,2,3,4,7,8,...|\n| 78738-TAM|  Male|53.0|    No|     Tamil Nadu|                  5.0|               11.0|         Deal 2|                Yes|              No|                 Yes|     Fiber Optic|               Yes|              Yes|                                No|             No|         Yes|                Yes|             Yes|             Yes|      One Year|                   No|Bank Withdrawal|  99.1500015258789|   5720.9501953125|                0.0|                                  0.0|                 1894.8599853515625|  7615.81005859375|            Stayed|                    null|                null|            1.0|            0.0|                         0.0|                      0.0|                       0.0|                   0.0|                    1.0|                   1.0|                             0.0|                     0.0|                  1.0|                         1.0|                      1.0|                      0.0|              2.0|                           1.0|                    0.0|                        0.0|(24,[0,1,3,4,9,10...|\n| 85049-MAD|Female|41.0|   Yes| Madhya Pradesh|                 15.0|                3.0|         Deal 5|                Yes|              No|                 Yes|             DSL|                No|               No|                                No|             No|          No|                 No|              No|             Yes|Month-to-Month|                   No|Bank Withdrawal|44.349998474121094|             81.25|                0.0|                                  0.0|                  93.68000030517578|174.92999267578125|           Churned|                   Other|          Don't know|            0.0|            1.0|                         0.0|                      0.0|                       0.0|                   1.0|                    0.0|                   0.0|                             0.0|                     0.0|                  0.0|                         0.0|                      0.0|                      0.0|              0.0|                           1.0|                    0.0|                        1.0|(24,[1,2,3,4,8,18...|\n| 33852-ASS|Female|42.0|    No|          Assam|                 14.0|               25.0|         Deal 5|                Yes|              No|                 Yes|           Cable|                No|               No|                                No|             No|         Yes|                Yes|             Yes|             Yes|Month-to-Month|                  Yes|Bank Withdrawal|             66.25| 546.4500122070312|                0.0|                                  0.0|                 205.75999450683594| 752.2100219726562|            Stayed|                    null|                null|            0.0|            0.0|                         0.0|                      0.0|                       0.0|                   3.0|                    0.0|                   0.0|                             0.0|                     0.0|                  1.0|                         1.0|                      1.0|                      0.0|              0.0|                           0.0|                    0.0|                        0.0|(24,[1,3,4,8,13,1...|\n| 22226-KER|  Male|81.0|   Yes|         Kerala|                 11.0|               13.0|           null|                Yes|             Yes|                 Yes|     Fiber Optic|               Yes|               No|                                No|             No|          No|                Yes|              No|              No|Month-to-Month|                   No|    Credit Card|              91.0|            3180.5|                0.0|                                 40.0|                  916.6500244140625|  4137.14990234375|            Stayed|                    null|                null|            1.0|            1.0|                         0.0|                      1.0|                       0.0|                   0.0|                    1.0|                   0.0|                             0.0|                     0.0|                  0.0|                         1.0|                      0.0|                      1.0|              0.0|                           1.0|                    1.0|                        0.0|(24,[0,1,2,3,4,6,...|\n| 95287-TAM|  Male|72.0|   Yes|     Tamil Nadu|                  2.0|               28.0|         Deal 2|                Yes|             Yes|                 Yes|     Fiber Optic|                No|              Yes|                               Yes|             No|         Yes|                Yes|              No|             Yes|Month-to-Month|                  Yes|Bank Withdrawal| 104.3499984741211|   6578.5498046875|                0.0|                                  0.0|                  558.3499755859375|  7136.89990234375|            Stayed|                    null|                null|            1.0|            1.0|                         0.0|                      1.0|                       0.0|                   0.0|                    0.0|                   1.0|                             1.0|                     0.0|                  1.0|                         1.0|                      0.0|                      0.0|              0.0|                           0.0|                    0.0|                        0.0|(24,[0,1,2,3,4,6,...|\n| 68438-MAH|  Male|64.0|    No|    Maharashtra|                 11.0|               19.0|           null|                Yes|              No|                 Yes|             DSL|               Yes|              Yes|                               Yes|            Yes|         Yes|                Yes|             Yes|              No|      Two Year|                  Yes|    Credit Card|              85.0|           5607.75|                0.0|                                130.0|                  427.0400085449219|   6164.7900390625|            Stayed|                    null|                null|            1.0|            0.0|                         0.0|                      0.0|                       0.0|                   1.0|                    1.0|                   1.0|                             1.0|                     1.0|                  1.0|                         1.0|                      1.0|                      1.0|              1.0|                           0.0|                    1.0|                        0.0|[1.0,64.0,0.0,11....|\n| 54839-JAM|Female|57.0|    No|Jammu & Kashmir|                 12.0|               18.0|         Deal 5|                Yes|              No|                 Yes|     Fiber Optic|                No|              Yes|                                No|             No|         Yes|                 No|              No|             Yes|Month-to-Month|                  Yes|Bank Withdrawal|  84.8499984741211|             523.5|                0.0|                                  0.0|                  235.9199981689453| 759.4199829101562|           Churned|              Competitor|Competitor made b...|            0.0|            0.0|                         0.0|                      0.0|                       0.0|                   0.0|                    0.0|                   1.0|                             0.0|                     0.0|                  1.0|                         0.0|                      0.0|                      0.0|              0.0|                           0.0|                    0.0|                        1.0|(24,[1,3,4,10,13,...|\n| 29834-RAJ|Female|35.0|    No|      Rajasthan|                  6.0|               23.0|           null|                Yes|             Yes|                 Yes|     Fiber Optic|                No|              Yes|                               Yes|             No|         Yes|                 No|              No|             Yes|      One Year|                  Yes|    Credit Card|  94.9000015258789|   4422.9501953125| 24.079999923706055|                                  0.0|                   1017.97998046875|  5416.85009765625|            Stayed|                    null|                null|            0.0|            0.0|                         0.0|                      1.0|                       0.0|                   0.0|                    0.0|                   1.0|                             1.0|                     0.0|                  1.0|                         0.0|                      0.0|                      0.0|              2.0|                           0.0|                    1.0|                        0.0|(24,[1,3,4,6,10,1...|\n| 62052-BIH|  Male|66.0|   Yes|          Bihar|                  3.0|                9.0|           null|                Yes|             Yes|                 Yes|     Fiber Optic|               Yes|              Yes|                               Yes|            Yes|         Yes|                Yes|             Yes|             Yes|      Two Year|                   No|Bank Withdrawal| 115.1500015258789|   8349.7001953125|                0.0|                                  0.0|                   2922.47998046875|     11272.1796875|            Stayed|                    null|                null|            1.0|            1.0|                         0.0|                      1.0|                       0.0|                   0.0|                    1.0|                   1.0|                             1.0|                     1.0|                  1.0|                         1.0|                      1.0|                      0.0|              1.0|                           1.0|                    0.0|                        0.0|[1.0,66.0,1.0,3.0...|\n| 28739-TAM|Female|46.0|   Yes|     Tamil Nadu|                  7.0|               32.0|         Deal 2|                Yes|             Yes|                 Yes|     Fiber Optic|                No|               No|                               Yes|             No|         Yes|                Yes|             Yes|             Yes|      One Year|                  Yes|Bank Withdrawal| 100.1500015258789|  6413.64990234375|                0.0|                                  0.0|                    2019.9599609375|   8433.6103515625|           Churned|              Competitor|Competitor made b...|            0.0|            1.0|                         0.0|                      1.0|                       0.0|                   0.0|                    0.0|                   0.0|                             1.0|                     0.0|                  1.0|                         1.0|                      1.0|                      0.0|              2.0|                           0.0|                    0.0|                        1.0|(24,[1,2,3,4,6,11...|\n| 31173-MAD|  Male|64.0|    No| Madhya Pradesh|                 14.0|                7.0|           null|                Yes|              No|                  No|            Otro|                No|               No|                                No|             No|          No|                 No|              No|              No|      Two Year|                   No|   Mailed Check|20.200000762939453| 735.9000244140625|                0.0|                                  0.0|                  155.4199981689453| 891.3200073242188|            Stayed|                    null|                null|            1.0|            0.0|                         0.0|                      0.0|                       1.0|                   2.0|                    0.0|                   0.0|                             0.0|                     0.0|                  0.0|                         0.0|                      0.0|                      1.0|              1.0|                           1.0|                    2.0|                        0.0|(24,[0,1,3,4,7,8,...|\n| 64255-TAM|Female|20.0|   Yes|     Tamil Nadu|                  2.0|                5.0|           null|                Yes|              No|                 Yes|             DSL|                No|               No|                                No|             No|         Yes|                 No|              No|             Yes|Month-to-Month|                  Yes|   Mailed Check|              53.5|              53.5|                0.0|                                  0.0|                 14.579999923706055| 68.08000183105469|           Churned|         Dissatisfaction|Product dissatisf...|            0.0|            1.0|                         0.0|                      0.0|                       0.0|                   1.0|                    0.0|                   0.0|                             0.0|                     0.0|                  1.0|                         0.0|                      0.0|                      0.0|              0.0|                           0.0|                    2.0|                        1.0|(24,[1,2,3,4,8,13...|\n| 53474-TAM|Female|18.0|    No|     Tamil Nadu|                  2.0|                6.0|           null|                Yes|              No|                 Yes|     Fiber Optic|                No|               No|                                No|            Yes|         Yes|                Yes|             Yes|             Yes|Month-to-Month|                  Yes|Bank Withdrawal| 95.30000305175781|   5817.7001953125|                0.0|                                  0.0|                   2061.89990234375|  7879.60009765625|            Stayed|                    null|                null|            0.0|            0.0|                         0.0|                      0.0|                       0.0|                   0.0|                    0.0|                   0.0|                             0.0|                     1.0|                  1.0|                         1.0|                      1.0|                      0.0|              0.0|                           0.0|                    0.0|                        0.0|(24,[1,3,4,12,13,...|\n| 35211-JHA|  Male|42.0|    No|      Jharkhand|                 15.0|                2.0|           null|                Yes|              No|                  No|            Otro|                No|               No|                                No|             No|          No|                 No|              No|              No|      One Year|                  Yes|    Credit Card|20.100000381469727|             279.5|                0.0|                                  0.0|                  537.2000122070312| 816.7000122070312|            Stayed|                    null|                null|            1.0|            0.0|                         0.0|                      0.0|                       1.0|                   2.0|                    0.0|                   0.0|                             0.0|                     0.0|                  0.0|                         0.0|                      0.0|                      1.0|              2.0|                           0.0|                    1.0|                        0.0|(24,[0,1,3,4,7,8,...|\n| 17347-UTT|Female|79.0|    No|  Uttar Pradesh|                 12.0|               36.0|         Deal 1|                Yes|             Yes|                 Yes|     Fiber Optic|               Yes|              Yes|                               Yes|            Yes|         Yes|                Yes|              No|             Yes|      Two Year|                  Yes|Bank Withdrawal| 114.8499984741211|   8317.9501953125|                0.0|                                  0.0|                  2067.840087890625|  10385.7900390625|            Stayed|                    null|                null|            0.0|            0.0|                         0.0|                      1.0|                       0.0|                   0.0|                    1.0|                   1.0|                             1.0|                     1.0|                  1.0|                         1.0|                      0.0|                      0.0|              1.0|                           0.0|                    0.0|                        0.0|(24,[1,3,4,6,9,10...|\n| 38672-JAM|  Male|21.0|    No|Jammu & Kashmir|                  0.0|                9.0|         Deal 2|                Yes|             Yes|                 Yes|           Cable|                No|               No|                               Yes|            Yes|         Yes|                 No|              No|             Yes|      One Year|                  Yes|Bank Withdrawal|  69.6500015258789|  3442.14990234375|                0.0|                                  0.0|                              716.0|  4158.14990234375|            Stayed|                    null|                null|            1.0|            0.0|                         0.0|                      1.0|                       0.0|                   3.0|                    0.0|                   0.0|                             1.0|                     1.0|                  1.0|                         0.0|                      0.0|                      0.0|              2.0|                           0.0|                    0.0|                        0.0|(24,[0,1,4,6,8,11...|\n| 65703-PUN|  Male|38.0|    No|         Punjab|                  5.0|               24.0|         Deal 5|                Yes|              No|                 Yes|             DSL|               Yes|               No|                                No|             No|          No|                 No|              No|             Yes|Month-to-Month|                   No|Bank Withdrawal|49.349998474121094|219.64999389648438|                0.0|                                  0.0|                 104.16000366210938|323.80999755859375|           Churned|         Dissatisfaction|Lack of self-serv...|            1.0|            0.0|                         0.0|                      0.0|                       0.0|                   1.0|                    1.0|                   0.0|                             0.0|                     0.0|                  0.0|                         0.0|                      0.0|                      0.0|              0.0|                           1.0|                    0.0|                        1.0|(24,[0,1,3,4,8,9,...|\n| 11939-UTT|  Male|65.0|   Yes|  Uttar Pradesh|                  5.0|                5.0|           null|                Yes|              No|                 Yes|     Fiber Optic|                No|               No|                                No|             No|         Yes|                 No|              No|             Yes|Month-to-Month|                  Yes|    Credit Card| 80.44999694824219| 583.4500122070312|                0.0|                                  0.0|                  215.9199981689453| 799.3699951171875|           Churned|                   Other|          Don't know|            1.0|            1.0|                         0.0|                      0.0|                       0.0|                   0.0|                    0.0|                   0.0|                             0.0|                     0.0|                  1.0|                         0.0|                      0.0|                      0.0|              0.0|                           0.0|                    1.0|                        1.0|(24,[0,1,2,3,4,13...|\n+----------+------+----+------+---------------+---------------------+-------------------+---------------+-------------------+----------------+--------------------+----------------+------------------+-----------------+----------------------------------+---------------+------------+-------------------+----------------+----------------+--------------+---------------------+---------------+------------------+------------------+-------------------+-------------------------------------+-----------------------------------+------------------+------------------+------------------------+--------------------+---------------+---------------+----------------------------+-------------------------+--------------------------+----------------------+-----------------------+----------------------+--------------------------------+------------------------+---------------------+----------------------------+-------------------------+-------------------------+-----------------+------------------------------+-----------------------+---------------------------+--------------------+\nonly showing top 20 rows\n\n"
     ]
    }
   ],
   "source": [
    "#Leendo el Dataset\n",
    "dataset = spark.read.format(\"parquet\").load(\"dbfs:/FileStore/_AbandonoClientesAnalisis/output/dataset_EstadoClientes\")\n",
    "dataset.show()"
   ]
  },
  {
   "cell_type": "code",
   "execution_count": 0,
   "metadata": {
    "application/vnd.databricks.v1+cell": {
     "cellMetadata": {
      "byteLimit": 2048000,
      "rowLimit": 10000
     },
     "inputWidgets": {},
     "nuid": "637d9bde-c538-49b9-ac82-4a52d52a74b6",
     "showTitle": false,
     "tableResultSettingsMap": {},
     "title": ""
    }
   },
   "outputs": [],
   "source": [
    "from pyspark.ml.classification import RandomForestClassifier"
   ]
  },
  {
   "cell_type": "code",
   "execution_count": 0,
   "metadata": {
    "application/vnd.databricks.v1+cell": {
     "cellMetadata": {
      "byteLimit": 2048000,
      "rowLimit": 10000
     },
     "inputWidgets": {},
     "nuid": "a5ac5eb1-5b5f-4bb0-aebf-b4606fcc324c",
     "showTitle": false,
     "tableResultSettingsMap": {},
     "title": ""
    }
   },
   "outputs": [],
   "source": [
    "#Configuramos el algoritmo\n",
    "algoritmo = RandomForestClassifier(\n",
    "  labelCol = \"Estado_del_Cliente_indexado\", \n",
    "  featuresCol = \"features\"\n",
    ")"
   ]
  },
  {
   "cell_type": "code",
   "execution_count": 0,
   "metadata": {
    "application/vnd.databricks.v1+cell": {
     "cellMetadata": {
      "byteLimit": 2048000,
      "rowLimit": 10000
     },
     "inputWidgets": {},
     "nuid": "a2f4c3c3-c171-4801-b44a-1630e458871e",
     "showTitle": false,
     "tableResultSettingsMap": {},
     "title": ""
    }
   },
   "outputs": [],
   "source": [
    "from pyspark.ml.evaluation import MulticlassClassificationEvaluator"
   ]
  },
  {
   "cell_type": "code",
   "execution_count": 0,
   "metadata": {
    "application/vnd.databricks.v1+cell": {
     "cellMetadata": {
      "byteLimit": 2048000,
      "rowLimit": 10000
     },
     "inputWidgets": {},
     "nuid": "06f46122-66e5-45da-a205-70a0a542f371",
     "showTitle": false,
     "tableResultSettingsMap": {},
     "title": ""
    }
   },
   "outputs": [],
   "source": [
    "evaluador = MulticlassClassificationEvaluator(\n",
    "  labelCol = \"Estado_del_Cliente_indexado\",\n",
    "  predictionCol = \"prediction\",\n",
    "  metricName=\"accuracy\"\n",
    ")"
   ]
  },
  {
   "cell_type": "code",
   "execution_count": 0,
   "metadata": {
    "application/vnd.databricks.v1+cell": {
     "cellMetadata": {
      "byteLimit": 2048000,
      "rowLimit": 10000
     },
     "inputWidgets": {},
     "nuid": "245d5eac-1e64-4bc7-bf10-fa481e1b8003",
     "showTitle": false,
     "tableResultSettingsMap": {},
     "title": ""
    }
   },
   "outputs": [],
   "source": [
    "from pyspark.ml.tuning import ParamGridBuilder"
   ]
  },
  {
   "cell_type": "code",
   "execution_count": 0,
   "metadata": {
    "application/vnd.databricks.v1+cell": {
     "cellMetadata": {
      "byteLimit": 2048000,
      "rowLimit": 10000
     },
     "inputWidgets": {},
     "nuid": "38e8156c-d90f-41d3-a645-1eaa6edfbef3",
     "showTitle": false,
     "tableResultSettingsMap": {},
     "title": ""
    }
   },
   "outputs": [],
   "source": [
    "mallaDeParametros = ParamGridBuilder().\\\n",
    "addGrid(algoritmo.numTrees, [5, 8, 12]).\\\n",
    "addGrid(algoritmo.maxDepth, [5, 8, 10]).\\\n",
    "addGrid(algoritmo.impurity, [\"entropy\", \"gini\"]).\\\n",
    "build()"
   ]
  },
  {
   "cell_type": "code",
   "execution_count": 0,
   "metadata": {
    "application/vnd.databricks.v1+cell": {
     "cellMetadata": {
      "byteLimit": 2048000,
      "rowLimit": 10000
     },
     "inputWidgets": {},
     "nuid": "f479fea7-d53f-4c14-9b04-9e38e09b2384",
     "showTitle": false,
     "tableResultSettingsMap": {},
     "title": ""
    }
   },
   "outputs": [],
   "source": [
    "from pyspark.ml.tuning import CrossValidator"
   ]
  },
  {
   "cell_type": "code",
   "execution_count": 0,
   "metadata": {
    "application/vnd.databricks.v1+cell": {
     "cellMetadata": {
      "byteLimit": 2048000,
      "rowLimit": 10000
     },
     "inputWidgets": {},
     "nuid": "c32d7041-e9dc-45c3-9b77-d2faedc0ca78",
     "showTitle": false,
     "tableResultSettingsMap": {},
     "title": ""
    }
   },
   "outputs": [],
   "source": [
    "#Configuración de la validación cruzada\n",
    "validacionCruzada = CrossValidator(\n",
    "  estimator = algoritmo,\n",
    "  estimatorParamMaps = mallaDeParametros,\n",
    "  evaluator = evaluador,\n",
    "  numFolds = 5 \n",
    ")  "
   ]
  },
  {
   "cell_type": "code",
   "execution_count": 0,
   "metadata": {
    "application/vnd.databricks.v1+cell": {
     "cellMetadata": {
      "byteLimit": 2048000,
      "rowLimit": 10000
     },
     "inputWidgets": {},
     "nuid": "e00db065-064d-4f21-bb3b-a04c3c0fb3a9",
     "showTitle": false,
     "tableResultSettingsMap": {},
     "title": ""
    }
   },
   "outputs": [],
   "source": [
    "modelosGenerados = validacionCruzada.fit(dataset)"
   ]
  },
  {
   "cell_type": "code",
   "execution_count": 0,
   "metadata": {
    "application/vnd.databricks.v1+cell": {
     "cellMetadata": {
      "byteLimit": 2048000,
      "rowLimit": 10000
     },
     "inputWidgets": {},
     "nuid": "4aace730-cdad-405f-9086-e9c64a78cc8f",
     "showTitle": false,
     "tableResultSettingsMap": {},
     "title": ""
    }
   },
   "outputs": [],
   "source": [
    "#Extracción del mejor modelo\n",
    "modelo = modelosGenerados.bestModel"
   ]
  },
  {
   "cell_type": "code",
   "execution_count": 0,
   "metadata": {
    "application/vnd.databricks.v1+cell": {
     "cellMetadata": {
      "byteLimit": 2048000,
      "rowLimit": 10000
     },
     "inputWidgets": {},
     "nuid": "c70b7e5f-f89e-42f6-8cae-34a4778486a4",
     "showTitle": false,
     "tableResultSettingsMap": {},
     "title": ""
    }
   },
   "outputs": [
    {
     "output_type": "stream",
     "name": "stdout",
     "output_type": "stream",
     "text": [
      "+----------+------+----+------+---------------+---------------------+-------------------+---------------+-------------------+----------------+--------------------+----------------+------------------+-----------------+----------------------------------+---------------+------------+-------------------+----------------+----------------+--------------+---------------------+---------------+------------------+------------------+-------------------+-------------------------------------+-----------------------------------+------------------+------------------+------------------------+--------------------+---------------+---------------+----------------------------+-------------------------+--------------------------+----------------------+-----------------------+----------------------+--------------------------------+------------------------+---------------------+----------------------------+-------------------------+-------------------------+-----------------+------------------------------+-----------------------+---------------------------+--------------------+--------------------+--------------------+----------+\n|ID_Cliente|Género|Edad|Casado|         Estado|Número_de_Referencias|Antigüedad_en_Meses|Oferta_de_Valor|Servicio_Teléfonico|Líneas_Múltiples|Servicio_de_Internet|Tipo_de_Internet|Seguridad_en_Línea|Respaldo_en_Línea|Plan_de_Protección_de_Dispositivos|Soporte_Premium|Streaming_TV|Streaming_Películas|Streaming_Música|Datos_Ilimitados|      Contrato|Facturación_Sin_Papel| Método_de_Pago|     Cargo_Mensual|    Cargos_Totales|Total_de_Reembolsos|Total_de_Cargos_Adicionales_por_Datos|Total_de_Cargos_por_Larga_Distancia|  Ingresos_Totales|Estado_del_Cliente|Categoría_de_Cancelación|Razón_de_Cancelación|Genero_Indexado|Casado_Indexado|Servicio_Teléfonico_Indexado|Lineas_Multiples_Indexado|Servicio_Internet_Indexado|Tipo_Internet_Indexado|SeguridadLinea_Indexado|RespaldoLinea_Indexado|Proteccion_Dispositivos_Indexado|Soporte_Premium_Indexado|Streaming_TV_Indexado|Streaming_Películas_Indexado|Streaming_Música_Indexado|Datos_Ilimitados_Indexado|Contrato_Indexado|Facturación_Sin_Papel_Indexado|Método_de_Pago_Indexado|Estado_del_Cliente_indexado|            features|       rawPrediction|         probability|prediction|\n+----------+------+----+------+---------------+---------------------+-------------------+---------------+-------------------+----------------+--------------------+----------------+------------------+-----------------+----------------------------------+---------------+------------+-------------------+----------------+----------------+--------------+---------------------+---------------+------------------+------------------+-------------------+-------------------------------------+-----------------------------------+------------------+------------------+------------------------+--------------------+---------------+---------------+----------------------------+-------------------------+--------------------------+----------------------+-----------------------+----------------------+--------------------------------+------------------------+---------------------+----------------------------+-------------------------+-------------------------+-----------------+------------------------------+-----------------------+---------------------------+--------------------+--------------------+--------------------+----------+\n| 58156-KAR|Female|56.0|   Yes|      Karnataka|                  8.0|               23.0|           null|                Yes|             Yes|                 Yes|     Fiber Optic|                No|               No|                                No|             No|         Yes|                Yes|             Yes|              No|Month-to-Month|                  Yes|Bank Withdrawal|              93.0| 2248.050048828125|                0.0|                                 40.0|                 1125.8399658203125| 3413.889892578125|            Stayed|                    null|                null|            0.0|            1.0|                         0.0|                      1.0|                       0.0|                   0.0|                    0.0|                   0.0|                             0.0|                     0.0|                  1.0|                         1.0|                      1.0|                      1.0|              0.0|                           0.0|                    0.0|                        0.0|(24,[1,2,3,4,6,13...|[6.67966656955714...|[0.55663888079642...|       0.0|\n| 49023-PUD|Female|51.0|   Yes|     Puducherry|                  8.0|               31.0|         Deal 4|                Yes|              No|                  No|            Otro|                No|               No|                                No|             No|          No|                 No|              No|              No|Month-to-Month|                   No|    Credit Card|             20.25|             208.0|                0.0|                                  0.0|                 314.82000732421875| 522.8200073242188|            Stayed|                    null|                null|            0.0|            1.0|                         0.0|                      0.0|                       1.0|                   2.0|                    0.0|                   0.0|                             0.0|                     0.0|                  0.0|                         0.0|                      0.0|                      1.0|              0.0|                           1.0|                    1.0|                        0.0|(24,[1,2,3,4,7,8,...|[10.0972956555844...|[0.84144130463203...|       0.0|\n| 78738-TAM|  Male|53.0|    No|     Tamil Nadu|                  5.0|               11.0|         Deal 2|                Yes|              No|                 Yes|     Fiber Optic|               Yes|              Yes|                                No|             No|         Yes|                Yes|             Yes|             Yes|      One Year|                   No|Bank Withdrawal|  99.1500015258789|   5720.9501953125|                0.0|                                  0.0|                 1894.8599853515625|  7615.81005859375|            Stayed|                    null|                null|            1.0|            0.0|                         0.0|                      0.0|                       0.0|                   0.0|                    1.0|                   1.0|                             0.0|                     0.0|                  1.0|                         1.0|                      1.0|                      0.0|              2.0|                           1.0|                    0.0|                        0.0|(24,[0,1,3,4,9,10...|[10.2429469419860...|[0.85357891183216...|       0.0|\n| 85049-MAD|Female|41.0|   Yes| Madhya Pradesh|                 15.0|                3.0|         Deal 5|                Yes|              No|                 Yes|             DSL|                No|               No|                                No|             No|          No|                 No|              No|             Yes|Month-to-Month|                   No|Bank Withdrawal|44.349998474121094|             81.25|                0.0|                                  0.0|                  93.68000030517578|174.92999267578125|           Churned|                   Other|          Don't know|            0.0|            1.0|                         0.0|                      0.0|                       0.0|                   1.0|                    0.0|                   0.0|                             0.0|                     0.0|                  0.0|                         0.0|                      0.0|                      0.0|              0.0|                           1.0|                    0.0|                        1.0|(24,[1,2,3,4,8,18...|[5.83368206295086...|[0.48614017191257...|       1.0|\n| 33852-ASS|Female|42.0|    No|          Assam|                 14.0|               25.0|         Deal 5|                Yes|              No|                 Yes|           Cable|                No|               No|                                No|             No|         Yes|                Yes|             Yes|             Yes|Month-to-Month|                  Yes|Bank Withdrawal|             66.25| 546.4500122070312|                0.0|                                  0.0|                 205.75999450683594| 752.2100219726562|            Stayed|                    null|                null|            0.0|            0.0|                         0.0|                      0.0|                       0.0|                   3.0|                    0.0|                   0.0|                             0.0|                     0.0|                  1.0|                         1.0|                      1.0|                      0.0|              0.0|                           0.0|                    0.0|                        0.0|(24,[1,3,4,8,13,1...|[7.84894993469396...|[0.65407916122449...|       0.0|\n| 22226-KER|  Male|81.0|   Yes|         Kerala|                 11.0|               13.0|           null|                Yes|             Yes|                 Yes|     Fiber Optic|               Yes|               No|                                No|             No|          No|                Yes|              No|              No|Month-to-Month|                   No|    Credit Card|              91.0|            3180.5|                0.0|                                 40.0|                  916.6500244140625|  4137.14990234375|            Stayed|                    null|                null|            1.0|            1.0|                         0.0|                      1.0|                       0.0|                   0.0|                    1.0|                   0.0|                             0.0|                     0.0|                  0.0|                         1.0|                      0.0|                      1.0|              0.0|                           1.0|                    1.0|                        0.0|(24,[0,1,2,3,4,6,...|[7.49394641733387...|[0.62449553477782...|       0.0|\n| 95287-TAM|  Male|72.0|   Yes|     Tamil Nadu|                  2.0|               28.0|         Deal 2|                Yes|             Yes|                 Yes|     Fiber Optic|                No|              Yes|                               Yes|             No|         Yes|                Yes|              No|             Yes|Month-to-Month|                  Yes|Bank Withdrawal| 104.3499984741211|   6578.5498046875|                0.0|                                  0.0|                  558.3499755859375|  7136.89990234375|            Stayed|                    null|                null|            1.0|            1.0|                         0.0|                      1.0|                       0.0|                   0.0|                    0.0|                   1.0|                             1.0|                     0.0|                  1.0|                         1.0|                      0.0|                      0.0|              0.0|                           0.0|                    0.0|                        0.0|(24,[0,1,2,3,4,6,...|[3.18422914059958...|[0.26535242838329...|       1.0|\n| 68438-MAH|  Male|64.0|    No|    Maharashtra|                 11.0|               19.0|           null|                Yes|              No|                 Yes|             DSL|               Yes|              Yes|                               Yes|            Yes|         Yes|                Yes|             Yes|              No|      Two Year|                  Yes|    Credit Card|              85.0|           5607.75|                0.0|                                130.0|                  427.0400085449219|   6164.7900390625|            Stayed|                    null|                null|            1.0|            0.0|                         0.0|                      0.0|                       0.0|                   1.0|                    1.0|                   1.0|                             1.0|                     1.0|                  1.0|                         1.0|                      1.0|                      1.0|              1.0|                           0.0|                    1.0|                        0.0|[1.0,64.0,0.0,11....|[11.3360743851432...|[0.94467286542860...|       0.0|\n| 54839-JAM|Female|57.0|    No|Jammu & Kashmir|                 12.0|               18.0|         Deal 5|                Yes|              No|                 Yes|     Fiber Optic|                No|              Yes|                                No|             No|         Yes|                 No|              No|             Yes|Month-to-Month|                  Yes|Bank Withdrawal|  84.8499984741211|             523.5|                0.0|                                  0.0|                  235.9199981689453| 759.4199829101562|           Churned|              Competitor|Competitor made b...|            0.0|            0.0|                         0.0|                      0.0|                       0.0|                   0.0|                    0.0|                   1.0|                             0.0|                     0.0|                  1.0|                         0.0|                      0.0|                      0.0|              0.0|                           0.0|                    0.0|                        1.0|(24,[1,3,4,10,13,...|[4.79923655379001...|[0.39993637948250...|       1.0|\n| 29834-RAJ|Female|35.0|    No|      Rajasthan|                  6.0|               23.0|           null|                Yes|             Yes|                 Yes|     Fiber Optic|                No|              Yes|                               Yes|             No|         Yes|                 No|              No|             Yes|      One Year|                  Yes|    Credit Card|  94.9000015258789|   4422.9501953125| 24.079999923706055|                                  0.0|                   1017.97998046875|  5416.85009765625|            Stayed|                    null|                null|            0.0|            0.0|                         0.0|                      1.0|                       0.0|                   0.0|                    0.0|                   1.0|                             1.0|                     0.0|                  1.0|                         0.0|                      0.0|                      0.0|              2.0|                           0.0|                    1.0|                        0.0|(24,[1,3,4,6,10,1...|[10.4207457386435...|[0.86839547822029...|       0.0|\n| 62052-BIH|  Male|66.0|   Yes|          Bihar|                  3.0|                9.0|           null|                Yes|             Yes|                 Yes|     Fiber Optic|               Yes|              Yes|                               Yes|            Yes|         Yes|                Yes|             Yes|             Yes|      Two Year|                   No|Bank Withdrawal| 115.1500015258789|   8349.7001953125|                0.0|                                  0.0|                   2922.47998046875|     11272.1796875|            Stayed|                    null|                null|            1.0|            1.0|                         0.0|                      1.0|                       0.0|                   0.0|                    1.0|                   1.0|                             1.0|                     1.0|                  1.0|                         1.0|                      1.0|                      0.0|              1.0|                           1.0|                    0.0|                        0.0|[1.0,66.0,1.0,3.0...|[11.0654632877452...|[0.92212194064543...|       0.0|\n| 28739-TAM|Female|46.0|   Yes|     Tamil Nadu|                  7.0|               32.0|         Deal 2|                Yes|             Yes|                 Yes|     Fiber Optic|                No|               No|                               Yes|             No|         Yes|                Yes|             Yes|             Yes|      One Year|                  Yes|Bank Withdrawal| 100.1500015258789|  6413.64990234375|                0.0|                                  0.0|                    2019.9599609375|   8433.6103515625|           Churned|              Competitor|Competitor made b...|            0.0|            1.0|                         0.0|                      1.0|                       0.0|                   0.0|                    0.0|                   0.0|                             1.0|                     0.0|                  1.0|                         1.0|                      1.0|                      0.0|              2.0|                           0.0|                    0.0|                        1.0|(24,[1,2,3,4,6,11...|[9.49655415054119...|[0.79137951254509...|       0.0|\n| 31173-MAD|  Male|64.0|    No| Madhya Pradesh|                 14.0|                7.0|           null|                Yes|              No|                  No|            Otro|                No|               No|                                No|             No|          No|                 No|              No|              No|      Two Year|                   No|   Mailed Check|20.200000762939453| 735.9000244140625|                0.0|                                  0.0|                  155.4199981689453| 891.3200073242188|            Stayed|                    null|                null|            1.0|            0.0|                         0.0|                      0.0|                       1.0|                   2.0|                    0.0|                   0.0|                             0.0|                     0.0|                  0.0|                         0.0|                      0.0|                      1.0|              1.0|                           1.0|                    2.0|                        0.0|(24,[0,1,3,4,7,8,...|[11.8759821518570...|[0.98966517932141...|       0.0|\n| 64255-TAM|Female|20.0|   Yes|     Tamil Nadu|                  2.0|                5.0|           null|                Yes|              No|                 Yes|             DSL|                No|               No|                                No|             No|         Yes|                 No|              No|             Yes|Month-to-Month|                  Yes|   Mailed Check|              53.5|              53.5|                0.0|                                  0.0|                 14.579999923706055| 68.08000183105469|           Churned|         Dissatisfaction|Product dissatisf...|            0.0|            1.0|                         0.0|                      0.0|                       0.0|                   1.0|                    0.0|                   0.0|                             0.0|                     0.0|                  1.0|                         0.0|                      0.0|                      0.0|              0.0|                           0.0|                    2.0|                        1.0|(24,[1,2,3,4,8,13...|[3.74317756967053...|[0.31193146413921...|       1.0|\n| 53474-TAM|Female|18.0|    No|     Tamil Nadu|                  2.0|                6.0|           null|                Yes|              No|                 Yes|     Fiber Optic|                No|               No|                                No|            Yes|         Yes|                Yes|             Yes|             Yes|Month-to-Month|                  Yes|Bank Withdrawal| 95.30000305175781|   5817.7001953125|                0.0|                                  0.0|                   2061.89990234375|  7879.60009765625|            Stayed|                    null|                null|            0.0|            0.0|                         0.0|                      0.0|                       0.0|                   0.0|                    0.0|                   0.0|                             0.0|                     1.0|                  1.0|                         1.0|                      1.0|                      0.0|              0.0|                           0.0|                    0.0|                        0.0|(24,[1,3,4,12,13,...|[8.36476820603177...|[0.69706401716931...|       0.0|\n| 35211-JHA|  Male|42.0|    No|      Jharkhand|                 15.0|                2.0|           null|                Yes|              No|                  No|            Otro|                No|               No|                                No|             No|          No|                 No|              No|              No|      One Year|                  Yes|    Credit Card|20.100000381469727|             279.5|                0.0|                                  0.0|                  537.2000122070312| 816.7000122070312|            Stayed|                    null|                null|            1.0|            0.0|                         0.0|                      0.0|                       1.0|                   2.0|                    0.0|                   0.0|                             0.0|                     0.0|                  0.0|                         0.0|                      0.0|                      1.0|              2.0|                           0.0|                    1.0|                        0.0|(24,[0,1,3,4,7,8,...|[11.6810208276045...|[0.97341840230038...|       0.0|\n| 17347-UTT|Female|79.0|    No|  Uttar Pradesh|                 12.0|               36.0|         Deal 1|                Yes|             Yes|                 Yes|     Fiber Optic|               Yes|              Yes|                               Yes|            Yes|         Yes|                Yes|              No|             Yes|      Two Year|                  Yes|Bank Withdrawal| 114.8499984741211|   8317.9501953125|                0.0|                                  0.0|                  2067.840087890625|  10385.7900390625|            Stayed|                    null|                null|            0.0|            0.0|                         0.0|                      1.0|                       0.0|                   0.0|                    1.0|                   1.0|                             1.0|                     1.0|                  1.0|                         1.0|                      0.0|                      0.0|              1.0|                           0.0|                    0.0|                        0.0|(24,[1,3,4,6,9,10...|[10.9973759456311...|[0.91644799546926...|       0.0|\n| 38672-JAM|  Male|21.0|    No|Jammu & Kashmir|                  0.0|                9.0|         Deal 2|                Yes|             Yes|                 Yes|           Cable|                No|               No|                               Yes|            Yes|         Yes|                 No|              No|             Yes|      One Year|                  Yes|Bank Withdrawal|  69.6500015258789|  3442.14990234375|                0.0|                                  0.0|                              716.0|  4158.14990234375|            Stayed|                    null|                null|            1.0|            0.0|                         0.0|                      1.0|                       0.0|                   3.0|                    0.0|                   0.0|                             1.0|                     1.0|                  1.0|                         0.0|                      0.0|                      0.0|              2.0|                           0.0|                    0.0|                        0.0|(24,[0,1,4,6,8,11...|[10.2283845906756...|[0.85236538255630...|       0.0|\n| 65703-PUN|  Male|38.0|    No|         Punjab|                  5.0|               24.0|         Deal 5|                Yes|              No|                 Yes|             DSL|               Yes|               No|                                No|             No|          No|                 No|              No|             Yes|Month-to-Month|                   No|Bank Withdrawal|49.349998474121094|219.64999389648438|                0.0|                                  0.0|                 104.16000366210938|323.80999755859375|           Churned|         Dissatisfaction|Lack of self-serv...|            1.0|            0.0|                         0.0|                      0.0|                       0.0|                   1.0|                    1.0|                   0.0|                             0.0|                     0.0|                  0.0|                         0.0|                      0.0|                      0.0|              0.0|                           1.0|                    0.0|                        1.0|(24,[0,1,3,4,8,9,...|[7.22822768413897...|[0.60235230701158...|       0.0|\n| 11939-UTT|  Male|65.0|   Yes|  Uttar Pradesh|                  5.0|                5.0|           null|                Yes|              No|                 Yes|     Fiber Optic|                No|               No|                                No|             No|         Yes|                 No|              No|             Yes|Month-to-Month|                  Yes|    Credit Card| 80.44999694824219| 583.4500122070312|                0.0|                                  0.0|                  215.9199981689453| 799.3699951171875|           Churned|                   Other|          Don't know|            1.0|            1.0|                         0.0|                      0.0|                       0.0|                   0.0|                    0.0|                   0.0|                             0.0|                     0.0|                  1.0|                         0.0|                      0.0|                      0.0|              0.0|                           0.0|                    1.0|                        1.0|(24,[0,1,2,3,4,13...|[4.31723818383321...|[0.35976984865276...|       1.0|\n+----------+------+----+------+---------------+---------------------+-------------------+---------------+-------------------+----------------+--------------------+----------------+------------------+-----------------+----------------------------------+---------------+------------+-------------------+----------------+----------------+--------------+---------------------+---------------+------------------+------------------+-------------------+-------------------------------------+-----------------------------------+------------------+------------------+------------------------+--------------------+---------------+---------------+----------------------------+-------------------------+--------------------------+----------------------+-----------------------+----------------------+--------------------------------+------------------------+---------------------+----------------------------+-------------------------+-------------------------+-----------------+------------------------------+-----------------------+---------------------------+--------------------+--------------------+--------------------+----------+\nonly showing top 20 rows\n\n"
     ]
    }
   ],
   "source": [
    "dfPrediccion = modelo.transform(dataset)\n",
    "dfPrediccion.show()"
   ]
  },
  {
   "cell_type": "code",
   "execution_count": 0,
   "metadata": {
    "application/vnd.databricks.v1+cell": {
     "cellMetadata": {
      "byteLimit": 2048000,
      "rowLimit": 10000
     },
     "inputWidgets": {},
     "nuid": "38ff9c74-e3a7-4713-aad9-d985e9205cdd",
     "showTitle": false,
     "tableResultSettingsMap": {},
     "title": ""
    }
   },
   "outputs": [
    {
     "output_type": "stream",
     "name": "stdout",
     "output_type": "stream",
     "text": [
      "+---------------------------+----------+-----------------------------------------+----------------------------------------+\n|Estado_del_Cliente_indexado|prediction|probability                              |rawPrediction                           |\n+---------------------------+----------+-----------------------------------------+----------------------------------------+\n|0.0                        |0.0       |[0.5566388807964286,0.44336111920357135] |[6.679666569557144,5.320333430442856]   |\n|0.0                        |0.0       |[0.8414413046320336,0.1585586953679664]  |[10.097295655584402,1.9027043444155964] |\n|0.0                        |0.0       |[0.8535789118321687,0.1464210881678313]  |[10.242946941986023,1.7570530580139756] |\n|1.0                        |1.0       |[0.486140171912572,0.513859828087428]    |[5.833682062950864,6.166317937049136]   |\n|0.0                        |0.0       |[0.6540791612244966,0.3459208387755033]  |[7.84894993469396,4.151050065306039]    |\n|0.0                        |0.0       |[0.624495534777823,0.3755044652221769]   |[7.493946417333877,4.506053582666123]   |\n|0.0                        |1.0       |[0.265352428383299,0.734647571616701]    |[3.1842291405995877,8.815770859400413]  |\n|0.0                        |0.0       |[0.9446728654286053,0.055327134571394765]|[11.336074385143263,0.6639256148567372] |\n|1.0                        |1.0       |[0.39993637948250127,0.6000636205174987] |[4.799236553790015,7.200763446209985]   |\n|0.0                        |0.0       |[0.8683954782202964,0.1316045217797035]  |[10.420745738643557,1.579254261356442]  |\n|0.0                        |0.0       |[0.9221219406454345,0.0778780593545655]  |[11.065463287745214,0.934536712254786]  |\n|1.0                        |0.0       |[0.7913795125450999,0.2086204874549001]  |[9.496554150541199,2.503445849458801]   |\n|0.0                        |0.0       |[0.9896651793214173,0.010334820678582777]|[11.875982151857007,0.12401784814299331]|\n|1.0                        |1.0       |[0.3119314641392114,0.6880685358607886]  |[3.7431775696705367,8.256822430329464]  |\n|0.0                        |0.0       |[0.6970640171693147,0.3029359828306853]  |[8.364768206031776,3.6352317939682233]  |\n|0.0                        |0.0       |[0.973418402300383,0.02658159769961699]  |[11.681020827604597,0.3189791723954039] |\n|0.0                        |0.0       |[0.916447995469262,0.08355200453073787]  |[10.997375945631145,1.0026240543688545] |\n|0.0                        |0.0       |[0.8523653825563032,0.14763461744369685] |[10.228384590675638,1.7716154093243621] |\n|1.0                        |0.0       |[0.6023523070115809,0.3976476929884191]  |[7.228227684138972,4.771772315861029]   |\n|1.0                        |1.0       |[0.35976984865276745,0.6402301513472325] |[4.31723818383321,7.682761816166789]    |\n+---------------------------+----------+-----------------------------------------+----------------------------------------+\nonly showing top 20 rows\n\n"
     ]
    }
   ],
   "source": [
    "dfPrediccion.select(\n",
    "  dfPrediccion[\"Estado_del_Cliente_indexado\"],\n",
    "  dfPrediccion[\"prediction\"],\n",
    "  dfPrediccion[\"probability\"], \n",
    "  dfPrediccion[\"rawPrediction\"]\n",
    ").show(20, False)"
   ]
  },
  {
   "cell_type": "code",
   "execution_count": 0,
   "metadata": {
    "application/vnd.databricks.v1+cell": {
     "cellMetadata": {
      "byteLimit": 2048000,
      "rowLimit": 10000
     },
     "inputWidgets": {},
     "nuid": "425e4cb6-a22c-4b4c-9795-697e0a45c8d9",
     "showTitle": false,
     "tableResultSettingsMap": {},
     "title": ""
    }
   },
   "outputs": [
    {
     "output_type": "stream",
     "name": "stdout",
     "output_type": "stream",
     "text": [
      "Out[14]: 0.8624937572831697"
     ]
    }
   ],
   "source": [
    "evaluador = MulticlassClassificationEvaluator(\n",
    "  labelCol=\"Estado_del_Cliente_indexado\", \n",
    "  predictionCol=\"prediction\", \n",
    "  metricName=\"accuracy\"\n",
    ")\n",
    "evaluador.evaluate(dfPrediccion)"
   ]
  },
  {
   "cell_type": "code",
   "execution_count": 0,
   "metadata": {
    "application/vnd.databricks.v1+cell": {
     "cellMetadata": {
      "byteLimit": 2048000,
      "rowLimit": 10000
     },
     "inputWidgets": {},
     "nuid": "85ab1e28-7870-40a6-9668-fd4b71f80a41",
     "showTitle": false,
     "tableResultSettingsMap": {},
     "title": ""
    }
   },
   "outputs": [],
   "source": [
    "#Almacenamos el modelo\n",
    "modelo.write().overwrite().save(\"dbfs:/FileStore/_AbandonoClientesAnalisis/output/modelo_RandomForest/\")"
   ]
  }
 ],
 "metadata": {
  "application/vnd.databricks.v1+notebook": {
   "computePreferences": null,
   "dashboards": [],
   "environmentMetadata": {
    "base_environment": "",
    "environment_version": "1"
   },
   "language": "python",
   "notebookMetadata": {
    "pythonIndentUnit": 4
   },
   "notebookName": "Predicción_RandomForest",
   "widgets": {}
  },
  "language_info": {
   "name": "python"
  }
 },
 "nbformat": 4,
 "nbformat_minor": 0
}