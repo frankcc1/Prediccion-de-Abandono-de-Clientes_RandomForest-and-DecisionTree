{
 "cells": [
  {
   "cell_type": "code",
   "execution_count": 0,
   "metadata": {
    "application/vnd.databricks.v1+cell": {
     "cellMetadata": {
      "byteLimit": 2048000,
      "rowLimit": 10000
     },
     "inputWidgets": {},
     "nuid": "bcbdafbd-29f1-41e2-9ba3-0bacdd7f1f7b",
     "showTitle": false,
     "tableResultSettingsMap": {},
     "title": ""
    }
   },
   "outputs": [
    {
     "output_type": "stream",
     "name": "stdout",
     "output_type": "stream",
     "text": [
      "+----------+------+----+------+---------------+---------------------+-------------------+---------------+-------------------+----------------+--------------------+----------------+------------------+-----------------+----------------------------------+---------------+------------+-------------------+----------------+----------------+--------------+---------------------+---------------+------------------+------------------+-------------------+-------------------------------------+-----------------------------------+------------------+------------------+------------------------+--------------------+---------------+---------------+----------------------------+-------------------------+--------------------------+----------------------+-----------------------+----------------------+--------------------------------+------------------------+---------------------+----------------------------+-------------------------+-------------------------+-----------------+------------------------------+-----------------------+---------------------------+--------------------+\n|ID_Cliente|Género|Edad|Casado|         Estado|Número_de_Referencias|Antigüedad_en_Meses|Oferta_de_Valor|Servicio_Teléfonico|Líneas_Múltiples|Servicio_de_Internet|Tipo_de_Internet|Seguridad_en_Línea|Respaldo_en_Línea|Plan_de_Protección_de_Dispositivos|Soporte_Premium|Streaming_TV|Streaming_Películas|Streaming_Música|Datos_Ilimitados|      Contrato|Facturación_Sin_Papel| Método_de_Pago|     Cargo_Mensual|    Cargos_Totales|Total_de_Reembolsos|Total_de_Cargos_Adicionales_por_Datos|Total_de_Cargos_por_Larga_Distancia|  Ingresos_Totales|Estado_del_Cliente|Categoría_de_Cancelación|Razón_de_Cancelación|Genero_Indexado|Casado_Indexado|Servicio_Teléfonico_Indexado|Lineas_Multiples_Indexado|Servicio_Internet_Indexado|Tipo_Internet_Indexado|SeguridadLinea_Indexado|RespaldoLinea_Indexado|Proteccion_Dispositivos_Indexado|Soporte_Premium_Indexado|Streaming_TV_Indexado|Streaming_Películas_Indexado|Streaming_Música_Indexado|Datos_Ilimitados_Indexado|Contrato_Indexado|Facturación_Sin_Papel_Indexado|Método_de_Pago_Indexado|Estado_del_Cliente_indexado|            features|\n+----------+------+----+------+---------------+---------------------+-------------------+---------------+-------------------+----------------+--------------------+----------------+------------------+-----------------+----------------------------------+---------------+------------+-------------------+----------------+----------------+--------------+---------------------+---------------+------------------+------------------+-------------------+-------------------------------------+-----------------------------------+------------------+------------------+------------------------+--------------------+---------------+---------------+----------------------------+-------------------------+--------------------------+----------------------+-----------------------+----------------------+--------------------------------+------------------------+---------------------+----------------------------+-------------------------+-------------------------+-----------------+------------------------------+-----------------------+---------------------------+--------------------+\n| 58156-KAR|Female|56.0|   Yes|      Karnataka|                  8.0|               23.0|           null|                Yes|             Yes|                 Yes|     Fiber Optic|                No|               No|                                No|             No|         Yes|                Yes|             Yes|              No|Month-to-Month|                  Yes|Bank Withdrawal|              93.0| 2248.050048828125|                0.0|                                 40.0|                 1125.8399658203125| 3413.889892578125|            Stayed|                    null|                null|            0.0|            1.0|                         0.0|                      1.0|                       0.0|                   0.0|                    0.0|                   0.0|                             0.0|                     0.0|                  1.0|                         1.0|                      1.0|                      1.0|              0.0|                           0.0|                    0.0|                        0.0|(24,[1,2,3,4,6,13...|\n| 49023-PUD|Female|51.0|   Yes|     Puducherry|                  8.0|               31.0|         Deal 4|                Yes|              No|                  No|            Otro|                No|               No|                                No|             No|          No|                 No|              No|              No|Month-to-Month|                   No|    Credit Card|             20.25|             208.0|                0.0|                                  0.0|                 314.82000732421875| 522.8200073242188|            Stayed|                    null|                null|            0.0|            1.0|                         0.0|                      0.0|                       1.0|                   2.0|                    0.0|                   0.0|                             0.0|                     0.0|                  0.0|                         0.0|                      0.0|                      1.0|              0.0|                           1.0|                    1.0|                        0.0|(24,[1,2,3,4,7,8,...|\n| 78738-TAM|  Male|53.0|    No|     Tamil Nadu|                  5.0|               11.0|         Deal 2|                Yes|              No|                 Yes|     Fiber Optic|               Yes|              Yes|                                No|             No|         Yes|                Yes|             Yes|             Yes|      One Year|                   No|Bank Withdrawal|  99.1500015258789|   5720.9501953125|                0.0|                                  0.0|                 1894.8599853515625|  7615.81005859375|            Stayed|                    null|                null|            1.0|            0.0|                         0.0|                      0.0|                       0.0|                   0.0|                    1.0|                   1.0|                             0.0|                     0.0|                  1.0|                         1.0|                      1.0|                      0.0|              2.0|                           1.0|                    0.0|                        0.0|(24,[0,1,3,4,9,10...|\n| 85049-MAD|Female|41.0|   Yes| Madhya Pradesh|                 15.0|                3.0|         Deal 5|                Yes|              No|                 Yes|             DSL|                No|               No|                                No|             No|          No|                 No|              No|             Yes|Month-to-Month|                   No|Bank Withdrawal|44.349998474121094|             81.25|                0.0|                                  0.0|                  93.68000030517578|174.92999267578125|           Churned|                   Other|          Don't know|            0.0|            1.0|                         0.0|                      0.0|                       0.0|                   1.0|                    0.0|                   0.0|                             0.0|                     0.0|                  0.0|                         0.0|                      0.0|                      0.0|              0.0|                           1.0|                    0.0|                        1.0|(24,[1,2,3,4,8,18...|\n| 33852-ASS|Female|42.0|    No|          Assam|                 14.0|               25.0|         Deal 5|                Yes|              No|                 Yes|           Cable|                No|               No|                                No|             No|         Yes|                Yes|             Yes|             Yes|Month-to-Month|                  Yes|Bank Withdrawal|             66.25| 546.4500122070312|                0.0|                                  0.0|                 205.75999450683594| 752.2100219726562|            Stayed|                    null|                null|            0.0|            0.0|                         0.0|                      0.0|                       0.0|                   3.0|                    0.0|                   0.0|                             0.0|                     0.0|                  1.0|                         1.0|                      1.0|                      0.0|              0.0|                           0.0|                    0.0|                        0.0|(24,[1,3,4,8,13,1...|\n| 22226-KER|  Male|81.0|   Yes|         Kerala|                 11.0|               13.0|           null|                Yes|             Yes|                 Yes|     Fiber Optic|               Yes|               No|                                No|             No|          No|                Yes|              No|              No|Month-to-Month|                   No|    Credit Card|              91.0|            3180.5|                0.0|                                 40.0|                  916.6500244140625|  4137.14990234375|            Stayed|                    null|                null|            1.0|            1.0|                         0.0|                      1.0|                       0.0|                   0.0|                    1.0|                   0.0|                             0.0|                     0.0|                  0.0|                         1.0|                      0.0|                      1.0|              0.0|                           1.0|                    1.0|                        0.0|(24,[0,1,2,3,4,6,...|\n| 95287-TAM|  Male|72.0|   Yes|     Tamil Nadu|                  2.0|               28.0|         Deal 2|                Yes|             Yes|                 Yes|     Fiber Optic|                No|              Yes|                               Yes|             No|         Yes|                Yes|              No|             Yes|Month-to-Month|                  Yes|Bank Withdrawal| 104.3499984741211|   6578.5498046875|                0.0|                                  0.0|                  558.3499755859375|  7136.89990234375|            Stayed|                    null|                null|            1.0|            1.0|                         0.0|                      1.0|                       0.0|                   0.0|                    0.0|                   1.0|                             1.0|                     0.0|                  1.0|                         1.0|                      0.0|                      0.0|              0.0|                           0.0|                    0.0|                        0.0|(24,[0,1,2,3,4,6,...|\n| 68438-MAH|  Male|64.0|    No|    Maharashtra|                 11.0|               19.0|           null|                Yes|              No|                 Yes|             DSL|               Yes|              Yes|                               Yes|            Yes|         Yes|                Yes|             Yes|              No|      Two Year|                  Yes|    Credit Card|              85.0|           5607.75|                0.0|                                130.0|                  427.0400085449219|   6164.7900390625|            Stayed|                    null|                null|            1.0|            0.0|                         0.0|                      0.0|                       0.0|                   1.0|                    1.0|                   1.0|                             1.0|                     1.0|                  1.0|                         1.0|                      1.0|                      1.0|              1.0|                           0.0|                    1.0|                        0.0|[1.0,64.0,0.0,11....|\n| 54839-JAM|Female|57.0|    No|Jammu & Kashmir|                 12.0|               18.0|         Deal 5|                Yes|              No|                 Yes|     Fiber Optic|                No|              Yes|                                No|             No|         Yes|                 No|              No|             Yes|Month-to-Month|                  Yes|Bank Withdrawal|  84.8499984741211|             523.5|                0.0|                                  0.0|                  235.9199981689453| 759.4199829101562|           Churned|              Competitor|Competitor made b...|            0.0|            0.0|                         0.0|                      0.0|                       0.0|                   0.0|                    0.0|                   1.0|                             0.0|                     0.0|                  1.0|                         0.0|                      0.0|                      0.0|              0.0|                           0.0|                    0.0|                        1.0|(24,[1,3,4,10,13,...|\n| 29834-RAJ|Female|35.0|    No|      Rajasthan|                  6.0|               23.0|           null|                Yes|             Yes|                 Yes|     Fiber Optic|                No|              Yes|                               Yes|             No|         Yes|                 No|              No|             Yes|      One Year|                  Yes|    Credit Card|  94.9000015258789|   4422.9501953125| 24.079999923706055|                                  0.0|                   1017.97998046875|  5416.85009765625|            Stayed|                    null|                null|            0.0|            0.0|                         0.0|                      1.0|                       0.0|                   0.0|                    0.0|                   1.0|                             1.0|                     0.0|                  1.0|                         0.0|                      0.0|                      0.0|              2.0|                           0.0|                    1.0|                        0.0|(24,[1,3,4,6,10,1...|\n| 62052-BIH|  Male|66.0|   Yes|          Bihar|                  3.0|                9.0|           null|                Yes|             Yes|                 Yes|     Fiber Optic|               Yes|              Yes|                               Yes|            Yes|         Yes|                Yes|             Yes|             Yes|      Two Year|                   No|Bank Withdrawal| 115.1500015258789|   8349.7001953125|                0.0|                                  0.0|                   2922.47998046875|     11272.1796875|            Stayed|                    null|                null|            1.0|            1.0|                         0.0|                      1.0|                       0.0|                   0.0|                    1.0|                   1.0|                             1.0|                     1.0|                  1.0|                         1.0|                      1.0|                      0.0|              1.0|                           1.0|                    0.0|                        0.0|[1.0,66.0,1.0,3.0...|\n| 28739-TAM|Female|46.0|   Yes|     Tamil Nadu|                  7.0|               32.0|         Deal 2|                Yes|             Yes|                 Yes|     Fiber Optic|                No|               No|                               Yes|             No|         Yes|                Yes|             Yes|             Yes|      One Year|                  Yes|Bank Withdrawal| 100.1500015258789|  6413.64990234375|                0.0|                                  0.0|                    2019.9599609375|   8433.6103515625|           Churned|              Competitor|Competitor made b...|            0.0|            1.0|                         0.0|                      1.0|                       0.0|                   0.0|                    0.0|                   0.0|                             1.0|                     0.0|                  1.0|                         1.0|                      1.0|                      0.0|              2.0|                           0.0|                    0.0|                        1.0|(24,[1,2,3,4,6,11...|\n| 31173-MAD|  Male|64.0|    No| Madhya Pradesh|                 14.0|                7.0|           null|                Yes|              No|                  No|            Otro|                No|               No|                                No|             No|          No|                 No|              No|              No|      Two Year|                   No|   Mailed Check|20.200000762939453| 735.9000244140625|                0.0|                                  0.0|                  155.4199981689453| 891.3200073242188|            Stayed|                    null|                null|            1.0|            0.0|                         0.0|                      0.0|                       1.0|                   2.0|                    0.0|                   0.0|                             0.0|                     0.0|                  0.0|                         0.0|                      0.0|                      1.0|              1.0|                           1.0|                    2.0|                        0.0|(24,[0,1,3,4,7,8,...|\n| 64255-TAM|Female|20.0|   Yes|     Tamil Nadu|                  2.0|                5.0|           null|                Yes|              No|                 Yes|             DSL|                No|               No|                                No|             No|         Yes|                 No|              No|             Yes|Month-to-Month|                  Yes|   Mailed Check|              53.5|              53.5|                0.0|                                  0.0|                 14.579999923706055| 68.08000183105469|           Churned|         Dissatisfaction|Product dissatisf...|            0.0|            1.0|                         0.0|                      0.0|                       0.0|                   1.0|                    0.0|                   0.0|                             0.0|                     0.0|                  1.0|                         0.0|                      0.0|                      0.0|              0.0|                           0.0|                    2.0|                        1.0|(24,[1,2,3,4,8,13...|\n| 53474-TAM|Female|18.0|    No|     Tamil Nadu|                  2.0|                6.0|           null|                Yes|              No|                 Yes|     Fiber Optic|                No|               No|                                No|            Yes|         Yes|                Yes|             Yes|             Yes|Month-to-Month|                  Yes|Bank Withdrawal| 95.30000305175781|   5817.7001953125|                0.0|                                  0.0|                   2061.89990234375|  7879.60009765625|            Stayed|                    null|                null|            0.0|            0.0|                         0.0|                      0.0|                       0.0|                   0.0|                    0.0|                   0.0|                             0.0|                     1.0|                  1.0|                         1.0|                      1.0|                      0.0|              0.0|                           0.0|                    0.0|                        0.0|(24,[1,3,4,12,13,...|\n| 35211-JHA|  Male|42.0|    No|      Jharkhand|                 15.0|                2.0|           null|                Yes|              No|                  No|            Otro|                No|               No|                                No|             No|          No|                 No|              No|              No|      One Year|                  Yes|    Credit Card|20.100000381469727|             279.5|                0.0|                                  0.0|                  537.2000122070312| 816.7000122070312|            Stayed|                    null|                null|            1.0|            0.0|                         0.0|                      0.0|                       1.0|                   2.0|                    0.0|                   0.0|                             0.0|                     0.0|                  0.0|                         0.0|                      0.0|                      1.0|              2.0|                           0.0|                    1.0|                        0.0|(24,[0,1,3,4,7,8,...|\n| 17347-UTT|Female|79.0|    No|  Uttar Pradesh|                 12.0|               36.0|         Deal 1|                Yes|             Yes|                 Yes|     Fiber Optic|               Yes|              Yes|                               Yes|            Yes|         Yes|                Yes|              No|             Yes|      Two Year|                  Yes|Bank Withdrawal| 114.8499984741211|   8317.9501953125|                0.0|                                  0.0|                  2067.840087890625|  10385.7900390625|            Stayed|                    null|                null|            0.0|            0.0|                         0.0|                      1.0|                       0.0|                   0.0|                    1.0|                   1.0|                             1.0|                     1.0|                  1.0|                         1.0|                      0.0|                      0.0|              1.0|                           0.0|                    0.0|                        0.0|(24,[1,3,4,6,9,10...|\n| 38672-JAM|  Male|21.0|    No|Jammu & Kashmir|                  0.0|                9.0|         Deal 2|                Yes|             Yes|                 Yes|           Cable|                No|               No|                               Yes|            Yes|         Yes|                 No|              No|             Yes|      One Year|                  Yes|Bank Withdrawal|  69.6500015258789|  3442.14990234375|                0.0|                                  0.0|                              716.0|  4158.14990234375|            Stayed|                    null|                null|            1.0|            0.0|                         0.0|                      1.0|                       0.0|                   3.0|                    0.0|                   0.0|                             1.0|                     1.0|                  1.0|                         0.0|                      0.0|                      0.0|              2.0|                           0.0|                    0.0|                        0.0|(24,[0,1,4,6,8,11...|\n| 65703-PUN|  Male|38.0|    No|         Punjab|                  5.0|               24.0|         Deal 5|                Yes|              No|                 Yes|             DSL|               Yes|               No|                                No|             No|          No|                 No|              No|             Yes|Month-to-Month|                   No|Bank Withdrawal|49.349998474121094|219.64999389648438|                0.0|                                  0.0|                 104.16000366210938|323.80999755859375|           Churned|         Dissatisfaction|Lack of self-serv...|            1.0|            0.0|                         0.0|                      0.0|                       0.0|                   1.0|                    1.0|                   0.0|                             0.0|                     0.0|                  0.0|                         0.0|                      0.0|                      0.0|              0.0|                           1.0|                    0.0|                        1.0|(24,[0,1,3,4,8,9,...|\n| 11939-UTT|  Male|65.0|   Yes|  Uttar Pradesh|                  5.0|                5.0|           null|                Yes|              No|                 Yes|     Fiber Optic|                No|               No|                                No|             No|         Yes|                 No|              No|             Yes|Month-to-Month|                  Yes|    Credit Card| 80.44999694824219| 583.4500122070312|                0.0|                                  0.0|                  215.9199981689453| 799.3699951171875|           Churned|                   Other|          Don't know|            1.0|            1.0|                         0.0|                      0.0|                       0.0|                   0.0|                    0.0|                   0.0|                             0.0|                     0.0|                  1.0|                         0.0|                      0.0|                      0.0|              0.0|                           0.0|                    1.0|                        1.0|(24,[0,1,2,3,4,13...|\n+----------+------+----+------+---------------+---------------------+-------------------+---------------+-------------------+----------------+--------------------+----------------+------------------+-----------------+----------------------------------+---------------+------------+-------------------+----------------+----------------+--------------+---------------------+---------------+------------------+------------------+-------------------+-------------------------------------+-----------------------------------+------------------+------------------+------------------------+--------------------+---------------+---------------+----------------------------+-------------------------+--------------------------+----------------------+-----------------------+----------------------+--------------------------------+------------------------+---------------------+----------------------------+-------------------------+-------------------------+-----------------+------------------------------+-----------------------+---------------------------+--------------------+\nonly showing top 20 rows\n\n"
     ]
    }
   ],
   "source": [
    "#Leendo el Dataset\n",
    "dataset = spark.read.format(\"parquet\").load(\"dbfs:/FileStore/_AbandonoClientesAnalisis/output/dataset_EstadoClientes\")\n",
    "dataset.show()"
   ]
  },
  {
   "cell_type": "code",
   "execution_count": 0,
   "metadata": {
    "application/vnd.databricks.v1+cell": {
     "cellMetadata": {
      "byteLimit": 2048000,
      "rowLimit": 10000
     },
     "inputWidgets": {},
     "nuid": "7316518a-7e07-4f27-bd96-3154aae7f565",
     "showTitle": false,
     "tableResultSettingsMap": {},
     "title": ""
    }
   },
   "outputs": [],
   "source": [
    "#Creando el modelo de Arbol de Desicion\n",
    "from pyspark.ml.classification  import DecisionTreeClassifier"
   ]
  },
  {
   "cell_type": "code",
   "execution_count": 0,
   "metadata": {
    "application/vnd.databricks.v1+cell": {
     "cellMetadata": {
      "byteLimit": 2048000,
      "rowLimit": 10000
     },
     "inputWidgets": {},
     "nuid": "e696979e-ddc6-4103-a351-351a25069756",
     "showTitle": false,
     "tableResultSettingsMap": {},
     "title": ""
    }
   },
   "outputs": [],
   "source": [
    "algoritmo = DecisionTreeClassifier(\n",
    "    labelCol=\"Estado_del_Cliente_indexado\",\n",
    "    featuresCol=\"features\"\n",
    ")"
   ]
  },
  {
   "cell_type": "code",
   "execution_count": 0,
   "metadata": {
    "application/vnd.databricks.v1+cell": {
     "cellMetadata": {
      "byteLimit": 2048000,
      "rowLimit": 10000
     },
     "inputWidgets": {},
     "nuid": "9298b7d1-598b-4857-9577-99aa864b3611",
     "showTitle": false,
     "tableResultSettingsMap": {},
     "title": ""
    }
   },
   "outputs": [],
   "source": [
    "#Configurando el evaluador\n",
    "from pyspark.ml.evaluation import MulticlassClassificationEvaluator"
   ]
  },
  {
   "cell_type": "code",
   "execution_count": 0,
   "metadata": {
    "application/vnd.databricks.v1+cell": {
     "cellMetadata": {
      "byteLimit": 2048000,
      "rowLimit": 10000
     },
     "inputWidgets": {},
     "nuid": "34079abb-2e01-459c-97e4-e3107b62c7e1",
     "showTitle": false,
     "tableResultSettingsMap": {},
     "title": ""
    }
   },
   "outputs": [],
   "source": [
    "evaluador = MulticlassClassificationEvaluator(\n",
    "    labelCol=\"Estado_del_Cliente_indexado\",\n",
    "    predictionCol=\"prediction\",\n",
    "    metricName=\"accuracy\"\n",
    ")"
   ]
  },
  {
   "cell_type": "code",
   "execution_count": 0,
   "metadata": {
    "application/vnd.databricks.v1+cell": {
     "cellMetadata": {
      "byteLimit": 2048000,
      "rowLimit": 10000
     },
     "inputWidgets": {},
     "nuid": "9ce92e82-7b7a-44dc-8a0c-f9ab32f5500f",
     "showTitle": false,
     "tableResultSettingsMap": {},
     "title": ""
    }
   },
   "outputs": [],
   "source": [
    "#Utlitario para definir los valores los valores que se evaluaran en los parametros de mi algoritmo\n",
    "from pyspark.ml.tuning import ParamGridBuilder"
   ]
  },
  {
   "cell_type": "markdown",
   "metadata": {
    "application/vnd.databricks.v1+cell": {
     "cellMetadata": {},
     "inputWidgets": {},
     "nuid": "e791ea55-55c6-4f16-b04a-49d241f77afb",
     "showTitle": false,
     "tableResultSettingsMap": {},
     "title": ""
    }
   },
   "source": [
    "**Malla de Parametros a calibrar**"
   ]
  },
  {
   "cell_type": "code",
   "execution_count": 0,
   "metadata": {
    "application/vnd.databricks.v1+cell": {
     "cellMetadata": {
      "byteLimit": 2048000,
      "rowLimit": 10000
     },
     "inputWidgets": {},
     "nuid": "e248c72e-26ba-4818-bac1-88575c54abde",
     "showTitle": false,
     "tableResultSettingsMap": {},
     "title": ""
    }
   },
   "outputs": [],
   "source": [
    "mallaParametros = ParamGridBuilder().\\\n",
    "addGrid(algoritmo.maxDepth,[5, 8, 10]).\\\n",
    "addGrid(algoritmo.impurity,[\"entropy\", \"gini\"]).\\\n",
    "build()"
   ]
  },
  {
   "cell_type": "markdown",
   "metadata": {
    "application/vnd.databricks.v1+cell": {
     "cellMetadata": {},
     "inputWidgets": {},
     "nuid": "14a501e2-3152-400c-8920-74a2c39d2810",
     "showTitle": false,
     "tableResultSettingsMap": {},
     "title": ""
    }
   },
   "source": [
    "**Validacion Cruzada**"
   ]
  },
  {
   "cell_type": "code",
   "execution_count": 0,
   "metadata": {
    "application/vnd.databricks.v1+cell": {
     "cellMetadata": {
      "byteLimit": 2048000,
      "rowLimit": 10000
     },
     "inputWidgets": {},
     "nuid": "217eb636-47af-46f5-8b88-a95b70c745eb",
     "showTitle": false,
     "tableResultSettingsMap": {},
     "title": ""
    }
   },
   "outputs": [],
   "source": [
    "from pyspark.ml.tuning import CrossValidator"
   ]
  },
  {
   "cell_type": "code",
   "execution_count": 0,
   "metadata": {
    "application/vnd.databricks.v1+cell": {
     "cellMetadata": {
      "byteLimit": 2048000,
      "rowLimit": 10000
     },
     "inputWidgets": {},
     "nuid": "1c8370d3-b658-40e4-9764-dc40c49040e6",
     "showTitle": false,
     "tableResultSettingsMap": {},
     "title": ""
    }
   },
   "outputs": [],
   "source": [
    "validacionCruzada = CrossValidator(\n",
    "    estimator=algoritmo,\n",
    "    estimatorParamMaps=mallaParametros,\n",
    "    evaluator=evaluador,\n",
    "    numFolds=5\n",
    ")"
   ]
  },
  {
   "cell_type": "code",
   "execution_count": 0,
   "metadata": {
    "application/vnd.databricks.v1+cell": {
     "cellMetadata": {
      "byteLimit": 2048000,
      "rowLimit": 10000
     },
     "inputWidgets": {},
     "nuid": "53c6e223-cd79-4352-b9b3-341089753a15",
     "showTitle": false,
     "tableResultSettingsMap": {},
     "title": ""
    }
   },
   "outputs": [],
   "source": [
    "#Ejecucion de la validacion cruzada para obtener el mejor modelo\n",
    "modeloGenerados = validacionCruzada.fit(dataset)"
   ]
  },
  {
   "cell_type": "code",
   "execution_count": 0,
   "metadata": {
    "application/vnd.databricks.v1+cell": {
     "cellMetadata": {
      "byteLimit": 2048000,
      "rowLimit": 10000
     },
     "inputWidgets": {},
     "nuid": "f5c2335e-81cd-40d9-8fe1-e22cc360c731",
     "showTitle": false,
     "tableResultSettingsMap": {},
     "title": ""
    }
   },
   "outputs": [],
   "source": [
    "#Extrayendo el mejor modelo\n",
    "modelo=modeloGenerados.bestModel"
   ]
  },
  {
   "cell_type": "markdown",
   "metadata": {
    "application/vnd.databricks.v1+cell": {
     "cellMetadata": {},
     "inputWidgets": {},
     "nuid": "a25db590-d323-4c4e-8f29-3cba164e0cfb",
     "showTitle": false,
     "tableResultSettingsMap": {},
     "title": ""
    }
   },
   "source": [
    "**Validacion del Modelo**"
   ]
  },
  {
   "cell_type": "code",
   "execution_count": 0,
   "metadata": {
    "application/vnd.databricks.v1+cell": {
     "cellMetadata": {
      "byteLimit": 2048000,
      "rowLimit": 10000
     },
     "inputWidgets": {},
     "nuid": "e273cdd1-d667-4434-b736-9412ef80ea21",
     "showTitle": false,
     "tableResultSettingsMap": {},
     "title": ""
    }
   },
   "outputs": [
    {
     "output_type": "stream",
     "name": "stdout",
     "output_type": "stream",
     "text": [
      "+----------+------+----+------+---------------+---------------------+-------------------+---------------+-------------------+----------------+--------------------+----------------+------------------+-----------------+----------------------------------+---------------+------------+-------------------+----------------+----------------+--------------+---------------------+---------------+------------------+------------------+-------------------+-------------------------------------+-----------------------------------+------------------+------------------+------------------------+--------------------+---------------+---------------+----------------------------+-------------------------+--------------------------+----------------------+-----------------------+----------------------+--------------------------------+------------------------+---------------------+----------------------------+-------------------------+-------------------------+-----------------+------------------------------+-----------------------+---------------------------+--------------------+-------------+--------------------+----------+\n|ID_Cliente|Género|Edad|Casado|         Estado|Número_de_Referencias|Antigüedad_en_Meses|Oferta_de_Valor|Servicio_Teléfonico|Líneas_Múltiples|Servicio_de_Internet|Tipo_de_Internet|Seguridad_en_Línea|Respaldo_en_Línea|Plan_de_Protección_de_Dispositivos|Soporte_Premium|Streaming_TV|Streaming_Películas|Streaming_Música|Datos_Ilimitados|      Contrato|Facturación_Sin_Papel| Método_de_Pago|     Cargo_Mensual|    Cargos_Totales|Total_de_Reembolsos|Total_de_Cargos_Adicionales_por_Datos|Total_de_Cargos_por_Larga_Distancia|  Ingresos_Totales|Estado_del_Cliente|Categoría_de_Cancelación|Razón_de_Cancelación|Genero_Indexado|Casado_Indexado|Servicio_Teléfonico_Indexado|Lineas_Multiples_Indexado|Servicio_Internet_Indexado|Tipo_Internet_Indexado|SeguridadLinea_Indexado|RespaldoLinea_Indexado|Proteccion_Dispositivos_Indexado|Soporte_Premium_Indexado|Streaming_TV_Indexado|Streaming_Películas_Indexado|Streaming_Música_Indexado|Datos_Ilimitados_Indexado|Contrato_Indexado|Facturación_Sin_Papel_Indexado|Método_de_Pago_Indexado|Estado_del_Cliente_indexado|            features|rawPrediction|         probability|prediction|\n+----------+------+----+------+---------------+---------------------+-------------------+---------------+-------------------+----------------+--------------------+----------------+------------------+-----------------+----------------------------------+---------------+------------+-------------------+----------------+----------------+--------------+---------------------+---------------+------------------+------------------+-------------------+-------------------------------------+-----------------------------------+------------------+------------------+------------------------+--------------------+---------------+---------------+----------------------------+-------------------------+--------------------------+----------------------+-----------------------+----------------------+--------------------------------+------------------------+---------------------+----------------------------+-------------------------+-------------------------+-----------------+------------------------------+-----------------------+---------------------------+--------------------+-------------+--------------------+----------+\n| 58156-KAR|Female|56.0|   Yes|      Karnataka|                  8.0|               23.0|           null|                Yes|             Yes|                 Yes|     Fiber Optic|                No|               No|                                No|             No|         Yes|                Yes|             Yes|              No|Month-to-Month|                  Yes|Bank Withdrawal|              93.0| 2248.050048828125|                0.0|                                 40.0|                 1125.8399658203125| 3413.889892578125|            Stayed|                    null|                null|            0.0|            1.0|                         0.0|                      1.0|                       0.0|                   0.0|                    0.0|                   0.0|                             0.0|                     0.0|                  1.0|                         1.0|                      1.0|                      1.0|              0.0|                           0.0|                    0.0|                        0.0|(24,[1,2,3,4,6,13...|[541.0,440.0]|[0.55147808358817...|       0.0|\n| 49023-PUD|Female|51.0|   Yes|     Puducherry|                  8.0|               31.0|         Deal 4|                Yes|              No|                  No|            Otro|                No|               No|                                No|             No|          No|                 No|              No|              No|Month-to-Month|                   No|    Credit Card|             20.25|             208.0|                0.0|                                  0.0|                 314.82000732421875| 522.8200073242188|            Stayed|                    null|                null|            0.0|            1.0|                         0.0|                      0.0|                       1.0|                   2.0|                    0.0|                   0.0|                             0.0|                     0.0|                  0.0|                         0.0|                      0.0|                      1.0|              0.0|                           1.0|                    1.0|                        0.0|(24,[1,2,3,4,7,8,...| [424.0,76.0]|       [0.848,0.152]|       0.0|\n| 78738-TAM|  Male|53.0|    No|     Tamil Nadu|                  5.0|               11.0|         Deal 2|                Yes|              No|                 Yes|     Fiber Optic|               Yes|              Yes|                                No|             No|         Yes|                Yes|             Yes|             Yes|      One Year|                   No|Bank Withdrawal|  99.1500015258789|   5720.9501953125|                0.0|                                  0.0|                 1894.8599853515625|  7615.81005859375|            Stayed|                    null|                null|            1.0|            0.0|                         0.0|                      0.0|                       0.0|                   0.0|                    1.0|                   1.0|                             0.0|                     0.0|                  1.0|                         1.0|                      1.0|                      0.0|              2.0|                           1.0|                    0.0|                        0.0|(24,[0,1,3,4,9,10...| [291.0,77.0]|[0.79076086956521...|       0.0|\n| 85049-MAD|Female|41.0|   Yes| Madhya Pradesh|                 15.0|                3.0|         Deal 5|                Yes|              No|                 Yes|             DSL|                No|               No|                                No|             No|          No|                 No|              No|             Yes|Month-to-Month|                   No|Bank Withdrawal|44.349998474121094|             81.25|                0.0|                                  0.0|                  93.68000030517578|174.92999267578125|           Churned|                   Other|          Don't know|            0.0|            1.0|                         0.0|                      0.0|                       0.0|                   1.0|                    0.0|                   0.0|                             0.0|                     0.0|                  0.0|                         0.0|                      0.0|                      0.0|              0.0|                           1.0|                    0.0|                        1.0|(24,[1,2,3,4,8,18...|  [73.0,42.0]|[0.63478260869565...|       0.0|\n| 33852-ASS|Female|42.0|    No|          Assam|                 14.0|               25.0|         Deal 5|                Yes|              No|                 Yes|           Cable|                No|               No|                                No|             No|         Yes|                Yes|             Yes|             Yes|Month-to-Month|                  Yes|Bank Withdrawal|             66.25| 546.4500122070312|                0.0|                                  0.0|                 205.75999450683594| 752.2100219726562|            Stayed|                    null|                null|            0.0|            0.0|                         0.0|                      0.0|                       0.0|                   3.0|                    0.0|                   0.0|                             0.0|                     0.0|                  1.0|                         1.0|                      1.0|                      0.0|              0.0|                           0.0|                    0.0|                        0.0|(24,[1,3,4,8,13,1...| [424.0,76.0]|       [0.848,0.152]|       0.0|\n| 22226-KER|  Male|81.0|   Yes|         Kerala|                 11.0|               13.0|           null|                Yes|             Yes|                 Yes|     Fiber Optic|               Yes|               No|                                No|             No|          No|                Yes|              No|              No|Month-to-Month|                   No|    Credit Card|              91.0|            3180.5|                0.0|                                 40.0|                  916.6500244140625|  4137.14990234375|            Stayed|                    null|                null|            1.0|            1.0|                         0.0|                      1.0|                       0.0|                   0.0|                    1.0|                   0.0|                             0.0|                     0.0|                  0.0|                         1.0|                      0.0|                      1.0|              0.0|                           1.0|                    1.0|                        0.0|(24,[0,1,2,3,4,6,...| [42.0,160.0]|[0.20792079207920...|       1.0|\n| 95287-TAM|  Male|72.0|   Yes|     Tamil Nadu|                  2.0|               28.0|         Deal 2|                Yes|             Yes|                 Yes|     Fiber Optic|                No|              Yes|                               Yes|             No|         Yes|                Yes|              No|             Yes|Month-to-Month|                  Yes|Bank Withdrawal| 104.3499984741211|   6578.5498046875|                0.0|                                  0.0|                  558.3499755859375|  7136.89990234375|            Stayed|                    null|                null|            1.0|            1.0|                         0.0|                      1.0|                       0.0|                   0.0|                    0.0|                   1.0|                             1.0|                     0.0|                  1.0|                         1.0|                      0.0|                      0.0|              0.0|                           0.0|                    0.0|                        0.0|(24,[0,1,2,3,4,6,...| [42.0,160.0]|[0.20792079207920...|       1.0|\n| 68438-MAH|  Male|64.0|    No|    Maharashtra|                 11.0|               19.0|           null|                Yes|              No|                 Yes|             DSL|               Yes|              Yes|                               Yes|            Yes|         Yes|                Yes|             Yes|              No|      Two Year|                  Yes|    Credit Card|              85.0|           5607.75|                0.0|                                130.0|                  427.0400085449219|   6164.7900390625|            Stayed|                    null|                null|            1.0|            0.0|                         0.0|                      0.0|                       0.0|                   1.0|                    1.0|                   1.0|                             1.0|                     1.0|                  1.0|                         1.0|                      1.0|                      1.0|              1.0|                           0.0|                    1.0|                        0.0|[1.0,64.0,0.0,11....|[1291.0,18.0]|[0.98624904507257...|       0.0|\n| 54839-JAM|Female|57.0|    No|Jammu & Kashmir|                 12.0|               18.0|         Deal 5|                Yes|              No|                 Yes|     Fiber Optic|                No|              Yes|                                No|             No|         Yes|                 No|              No|             Yes|Month-to-Month|                  Yes|Bank Withdrawal|  84.8499984741211|             523.5|                0.0|                                  0.0|                  235.9199981689453| 759.4199829101562|           Churned|              Competitor|Competitor made b...|            0.0|            0.0|                         0.0|                      0.0|                       0.0|                   0.0|                    0.0|                   1.0|                             0.0|                     0.0|                  1.0|                         0.0|                      0.0|                      0.0|              0.0|                           0.0|                    0.0|                        1.0|(24,[1,3,4,10,13,...|[541.0,440.0]|[0.55147808358817...|       0.0|\n| 29834-RAJ|Female|35.0|    No|      Rajasthan|                  6.0|               23.0|           null|                Yes|             Yes|                 Yes|     Fiber Optic|                No|              Yes|                               Yes|             No|         Yes|                 No|              No|             Yes|      One Year|                  Yes|    Credit Card|  94.9000015258789|   4422.9501953125| 24.079999923706055|                                  0.0|                   1017.97998046875|  5416.85009765625|            Stayed|                    null|                null|            0.0|            0.0|                         0.0|                      1.0|                       0.0|                   0.0|                    0.0|                   1.0|                             1.0|                     0.0|                  1.0|                         0.0|                      0.0|                      0.0|              2.0|                           0.0|                    1.0|                        0.0|(24,[1,3,4,6,10,1...| [291.0,77.0]|[0.79076086956521...|       0.0|\n| 62052-BIH|  Male|66.0|   Yes|          Bihar|                  3.0|                9.0|           null|                Yes|             Yes|                 Yes|     Fiber Optic|               Yes|              Yes|                               Yes|            Yes|         Yes|                Yes|             Yes|             Yes|      Two Year|                   No|Bank Withdrawal| 115.1500015258789|   8349.7001953125|                0.0|                                  0.0|                   2922.47998046875|     11272.1796875|            Stayed|                    null|                null|            1.0|            1.0|                         0.0|                      1.0|                       0.0|                   0.0|                    1.0|                   1.0|                             1.0|                     1.0|                  1.0|                         1.0|                      1.0|                      0.0|              1.0|                           1.0|                    0.0|                        0.0|[1.0,66.0,1.0,3.0...| [358.0,28.0]|[0.92746113989637...|       0.0|\n| 28739-TAM|Female|46.0|   Yes|     Tamil Nadu|                  7.0|               32.0|         Deal 2|                Yes|             Yes|                 Yes|     Fiber Optic|                No|               No|                               Yes|             No|         Yes|                Yes|             Yes|             Yes|      One Year|                  Yes|Bank Withdrawal| 100.1500015258789|  6413.64990234375|                0.0|                                  0.0|                    2019.9599609375|   8433.6103515625|           Churned|              Competitor|Competitor made b...|            0.0|            1.0|                         0.0|                      1.0|                       0.0|                   0.0|                    0.0|                   0.0|                             1.0|                     0.0|                  1.0|                         1.0|                      1.0|                      0.0|              2.0|                           0.0|                    0.0|                        1.0|(24,[1,2,3,4,6,11...| [291.0,77.0]|[0.79076086956521...|       0.0|\n| 31173-MAD|  Male|64.0|    No| Madhya Pradesh|                 14.0|                7.0|           null|                Yes|              No|                  No|            Otro|                No|               No|                                No|             No|          No|                 No|              No|              No|      Two Year|                   No|   Mailed Check|20.200000762939453| 735.9000244140625|                0.0|                                  0.0|                  155.4199981689453| 891.3200073242188|            Stayed|                    null|                null|            1.0|            0.0|                         0.0|                      0.0|                       1.0|                   2.0|                    0.0|                   0.0|                             0.0|                     0.0|                  0.0|                         0.0|                      0.0|                      1.0|              1.0|                           1.0|                    2.0|                        0.0|(24,[0,1,3,4,7,8,...|[1291.0,18.0]|[0.98624904507257...|       0.0|\n| 64255-TAM|Female|20.0|   Yes|     Tamil Nadu|                  2.0|                5.0|           null|                Yes|              No|                 Yes|             DSL|                No|               No|                                No|             No|         Yes|                 No|              No|             Yes|Month-to-Month|                  Yes|   Mailed Check|              53.5|              53.5|                0.0|                                  0.0|                 14.579999923706055| 68.08000183105469|           Churned|         Dissatisfaction|Product dissatisf...|            0.0|            1.0|                         0.0|                      0.0|                       0.0|                   1.0|                    0.0|                   0.0|                             0.0|                     0.0|                  1.0|                         0.0|                      0.0|                      0.0|              0.0|                           0.0|                    2.0|                        1.0|(24,[1,2,3,4,8,13...|[222.0,343.0]|[0.39292035398230...|       1.0|\n| 53474-TAM|Female|18.0|    No|     Tamil Nadu|                  2.0|                6.0|           null|                Yes|              No|                 Yes|     Fiber Optic|                No|               No|                                No|            Yes|         Yes|                Yes|             Yes|             Yes|Month-to-Month|                  Yes|Bank Withdrawal| 95.30000305175781|   5817.7001953125|                0.0|                                  0.0|                   2061.89990234375|  7879.60009765625|            Stayed|                    null|                null|            0.0|            0.0|                         0.0|                      0.0|                       0.0|                   0.0|                    0.0|                   0.0|                             0.0|                     1.0|                  1.0|                         1.0|                      1.0|                      0.0|              0.0|                           0.0|                    0.0|                        0.0|(24,[1,3,4,12,13,...|[541.0,440.0]|[0.55147808358817...|       0.0|\n| 35211-JHA|  Male|42.0|    No|      Jharkhand|                 15.0|                2.0|           null|                Yes|              No|                  No|            Otro|                No|               No|                                No|             No|          No|                 No|              No|              No|      One Year|                  Yes|    Credit Card|20.100000381469727|             279.5|                0.0|                                  0.0|                  537.2000122070312| 816.7000122070312|            Stayed|                    null|                null|            1.0|            0.0|                         0.0|                      0.0|                       1.0|                   2.0|                    0.0|                   0.0|                             0.0|                     0.0|                  0.0|                         0.0|                      0.0|                      1.0|              2.0|                           0.0|                    1.0|                        0.0|(24,[0,1,3,4,7,8,...| [942.0,75.0]|[0.92625368731563...|       0.0|\n| 17347-UTT|Female|79.0|    No|  Uttar Pradesh|                 12.0|               36.0|         Deal 1|                Yes|             Yes|                 Yes|     Fiber Optic|               Yes|              Yes|                               Yes|            Yes|         Yes|                Yes|              No|             Yes|      Two Year|                  Yes|Bank Withdrawal| 114.8499984741211|   8317.9501953125|                0.0|                                  0.0|                  2067.840087890625|  10385.7900390625|            Stayed|                    null|                null|            0.0|            0.0|                         0.0|                      1.0|                       0.0|                   0.0|                    1.0|                   1.0|                             1.0|                     1.0|                  1.0|                         1.0|                      0.0|                      0.0|              1.0|                           0.0|                    0.0|                        0.0|(24,[1,3,4,6,9,10...| [358.0,28.0]|[0.92746113989637...|       0.0|\n| 38672-JAM|  Male|21.0|    No|Jammu & Kashmir|                  0.0|                9.0|         Deal 2|                Yes|             Yes|                 Yes|           Cable|                No|               No|                               Yes|            Yes|         Yes|                 No|              No|             Yes|      One Year|                  Yes|Bank Withdrawal|  69.6500015258789|  3442.14990234375|                0.0|                                  0.0|                              716.0|  4158.14990234375|            Stayed|                    null|                null|            1.0|            0.0|                         0.0|                      1.0|                       0.0|                   3.0|                    0.0|                   0.0|                             1.0|                     1.0|                  1.0|                         0.0|                      0.0|                      0.0|              2.0|                           0.0|                    0.0|                        0.0|(24,[0,1,4,6,8,11...| [942.0,75.0]|[0.92625368731563...|       0.0|\n| 65703-PUN|  Male|38.0|    No|         Punjab|                  5.0|               24.0|         Deal 5|                Yes|              No|                 Yes|             DSL|               Yes|               No|                                No|             No|          No|                 No|              No|             Yes|Month-to-Month|                   No|Bank Withdrawal|49.349998474121094|219.64999389648438|                0.0|                                  0.0|                 104.16000366210938|323.80999755859375|           Churned|         Dissatisfaction|Lack of self-serv...|            1.0|            0.0|                         0.0|                      0.0|                       0.0|                   1.0|                    1.0|                   0.0|                             0.0|                     0.0|                  0.0|                         0.0|                      0.0|                      0.0|              0.0|                           1.0|                    0.0|                        1.0|(24,[0,1,3,4,8,9,...|  [73.0,42.0]|[0.63478260869565...|       0.0|\n| 11939-UTT|  Male|65.0|   Yes|  Uttar Pradesh|                  5.0|                5.0|           null|                Yes|              No|                 Yes|     Fiber Optic|                No|               No|                                No|             No|         Yes|                 No|              No|             Yes|Month-to-Month|                  Yes|    Credit Card| 80.44999694824219| 583.4500122070312|                0.0|                                  0.0|                  215.9199981689453| 799.3699951171875|           Churned|                   Other|          Don't know|            1.0|            1.0|                         0.0|                      0.0|                       0.0|                   0.0|                    0.0|                   0.0|                             0.0|                     0.0|                  1.0|                         0.0|                      0.0|                      0.0|              0.0|                           0.0|                    1.0|                        1.0|(24,[0,1,2,3,4,13...|[541.0,440.0]|[0.55147808358817...|       0.0|\n+----------+------+----+------+---------------+---------------------+-------------------+---------------+-------------------+----------------+--------------------+----------------+------------------+-----------------+----------------------------------+---------------+------------+-------------------+----------------+----------------+--------------+---------------------+---------------+------------------+------------------+-------------------+-------------------------------------+-----------------------------------+------------------+------------------+------------------------+--------------------+---------------+---------------+----------------------------+-------------------------+--------------------------+----------------------+-----------------------+----------------------+--------------------------------+------------------------+---------------------+----------------------------+-------------------------+-------------------------+-----------------+------------------------------+-----------------------+---------------------------+--------------------+-------------+--------------------+----------+\nonly showing top 20 rows\n\n"
     ]
    }
   ],
   "source": [
    "dfPrediccion = modelo.transform(dataset)\n",
    "dfPrediccion.show()"
   ]
  },
  {
   "cell_type": "code",
   "execution_count": 0,
   "metadata": {
    "application/vnd.databricks.v1+cell": {
     "cellMetadata": {
      "byteLimit": 2048000,
      "rowLimit": 10000
     },
     "inputWidgets": {},
     "nuid": "d8cddafd-b429-4834-ba61-4270f5516377",
     "showTitle": false,
     "tableResultSettingsMap": {},
     "title": ""
    }
   },
   "outputs": [
    {
     "output_type": "stream",
     "name": "stdout",
     "output_type": "stream",
     "text": [
      "+---------------------------+----------+-----------------------------------------+\n|Estado_del_Cliente_indexado|prediction|probability                              |\n+---------------------------+----------+-----------------------------------------+\n|0.0                        |0.0       |[0.5514780835881753,0.44852191641182465] |\n|0.0                        |0.0       |[0.848,0.152]                            |\n|0.0                        |0.0       |[0.7907608695652174,0.20923913043478262] |\n|1.0                        |0.0       |[0.6347826086956522,0.3652173913043478]  |\n|0.0                        |0.0       |[0.848,0.152]                            |\n|0.0                        |1.0       |[0.2079207920792079,0.7920792079207921]  |\n|0.0                        |1.0       |[0.2079207920792079,0.7920792079207921]  |\n|0.0                        |0.0       |[0.9862490450725745,0.013750954927425516]|\n|1.0                        |0.0       |[0.5514780835881753,0.44852191641182465] |\n|0.0                        |0.0       |[0.7907608695652174,0.20923913043478262] |\n|0.0                        |0.0       |[0.927461139896373,0.07253886010362694]  |\n|1.0                        |0.0       |[0.7907608695652174,0.20923913043478262] |\n|0.0                        |0.0       |[0.9862490450725745,0.013750954927425516]|\n|1.0                        |1.0       |[0.3929203539823009,0.6070796460176991]  |\n|0.0                        |0.0       |[0.5514780835881753,0.44852191641182465] |\n|0.0                        |0.0       |[0.9262536873156342,0.07374631268436578] |\n|0.0                        |0.0       |[0.927461139896373,0.07253886010362694]  |\n|0.0                        |0.0       |[0.9262536873156342,0.07374631268436578] |\n|1.0                        |0.0       |[0.6347826086956522,0.3652173913043478]  |\n|1.0                        |0.0       |[0.5514780835881753,0.44852191641182465] |\n+---------------------------+----------+-----------------------------------------+\nonly showing top 20 rows\n\n"
     ]
    }
   ],
   "source": [
    "dfPrediccion.select(\n",
    "  dfPrediccion[\"Estado_del_Cliente_indexado\"],\n",
    "  dfPrediccion[\"prediction\"],\n",
    "  dfPrediccion[\"probability\"]\n",
    ").show(20, False)"
   ]
  },
  {
   "cell_type": "code",
   "execution_count": 0,
   "metadata": {
    "application/vnd.databricks.v1+cell": {
     "cellMetadata": {
      "byteLimit": 2048000,
      "rowLimit": 10000
     },
     "inputWidgets": {},
     "nuid": "b600c9dc-6f08-4d92-b533-f64c510af767",
     "showTitle": false,
     "tableResultSettingsMap": {},
     "title": ""
    }
   },
   "outputs": [
    {
     "output_type": "stream",
     "name": "stdout",
     "output_type": "stream",
     "text": [
      "Out[14]: 0.8163808889628766"
     ]
    }
   ],
   "source": [
    "#Configuramos el evaluador\n",
    "evaluador = MulticlassClassificationEvaluator(\n",
    "  labelCol=\"Estado_del_Cliente_indexado\", \n",
    "  predictionCol=\"prediction\", \n",
    "  metricName=\"accuracy\"\n",
    ")\n",
    " \n",
    "#Evaluamos las predicciones\n",
    "evaluador.evaluate(dfPrediccion)"
   ]
  },
  {
   "cell_type": "code",
   "execution_count": 0,
   "metadata": {
    "application/vnd.databricks.v1+cell": {
     "cellMetadata": {
      "byteLimit": 2048000,
      "rowLimit": 10000
     },
     "inputWidgets": {},
     "nuid": "327f6e4f-2518-45a5-9ac3-39a3c1302ace",
     "showTitle": false,
     "tableResultSettingsMap": {},
     "title": ""
    }
   },
   "outputs": [],
   "source": [
    "#Almacenamos el modelo\n",
    "modelo.write().overwrite().save(\"dbfs:/FileStore/_AbandonoClientesAnalisis/output/modelo_arbol_de_decision/\")"
   ]
  }
 ],
 "metadata": {
  "application/vnd.databricks.v1+notebook": {
   "computePreferences": null,
   "dashboards": [],
   "environmentMetadata": {
    "base_environment": "",
    "client": "1"
   },
   "language": "python",
   "notebookMetadata": {
    "pythonIndentUnit": 4
   },
   "notebookName": "Predicción_Abandono_ArbolDesicion",
   "widgets": {}
  }
 },
 "nbformat": 4,
 "nbformat_minor": 0
}
